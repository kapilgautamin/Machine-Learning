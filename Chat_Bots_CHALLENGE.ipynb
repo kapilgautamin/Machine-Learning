{
  "nbformat": 4,
  "nbformat_minor": 0,
  "metadata": {
    "kernelspec": {
      "name": "python3",
      "display_name": "Python 3"
    },
    "language_info": {
      "codemirror_mode": {
        "name": "ipython",
        "version": 3
      },
      "file_extension": ".py",
      "mimetype": "text/x-python",
      "name": "python",
      "nbconvert_exporter": "python",
      "pygments_lexer": "ipython3",
      "version": "3.7.4"
    },
    "colab": {
      "name": "Chat_Bots_CHALLENGE.ipynb",
      "provenance": [],
      "include_colab_link": true
    }
  },
  "cells": [
    {
      "cell_type": "markdown",
      "metadata": {
        "id": "view-in-github",
        "colab_type": "text"
      },
      "source": [
        "<a href=\"https://colab.research.google.com/github/kapilgautamin/Machine-Learning-/blob/master/Chat_Bots_CHALLENGE.ipynb\" target=\"_parent\"><img src=\"https://colab.research.google.com/assets/colab-badge.svg\" alt=\"Open In Colab\"/></a>"
      ]
    },
    {
      "cell_type": "markdown",
      "metadata": {
        "id": "t0D_p9Oza5o6",
        "colab_type": "text"
      },
      "source": [
        "\n",
        "# Question and Answer Chat Bots"
      ]
    },
    {
      "cell_type": "markdown",
      "metadata": {
        "id": "Y5Jw8AAja5o-",
        "colab_type": "text"
      },
      "source": [
        "## Loading the Data\n",
        "\n",
        "We will be working with the Babi Data Set from Facebook Research.\n",
        "\n",
        "Full Details: https://research.fb.com/downloads/babi/\n",
        "\n",
        "- Jason Weston, Antoine Bordes, Sumit Chopra, Tomas Mikolov, Alexander M. Rush,\n",
        "  \"Towards AI-Complete Question Answering: A Set of Prerequisite Toy Tasks\",\n",
        "  http://arxiv.org/abs/1502.05698\n"
      ]
    },
    {
      "cell_type": "code",
      "metadata": {
        "id": "3AaGJVfza5pA",
        "colab_type": "code",
        "colab": {}
      },
      "source": [
        "import pickle\n",
        "import numpy as np"
      ],
      "execution_count": 0,
      "outputs": []
    },
    {
      "cell_type": "code",
      "metadata": {
        "id": "h-9KW2txa5pG",
        "colab_type": "code",
        "colab": {}
      },
      "source": [
        "with open(\"train_qa.txt\", \"rb\") as fp:   # Unpickling\n",
        "    train_data =  pickle.load(fp)"
      ],
      "execution_count": 0,
      "outputs": []
    },
    {
      "cell_type": "code",
      "metadata": {
        "id": "oZ2vuF3ua5pM",
        "colab_type": "code",
        "colab": {}
      },
      "source": [
        "with open(\"test_qa.txt\", \"rb\") as fp:   # Unpickling\n",
        "    test_data =  pickle.load(fp)"
      ],
      "execution_count": 0,
      "outputs": []
    },
    {
      "cell_type": "markdown",
      "metadata": {
        "id": "VohzJNAia5pT",
        "colab_type": "text"
      },
      "source": [
        "### Tip: It may be a good idea to explore the dataset!\n",
        "\n",
        "Below is just a sample of what you can do:"
      ]
    },
    {
      "cell_type": "code",
      "metadata": {
        "id": "j3BlD0zga5pV",
        "colab_type": "code",
        "outputId": "d008dd83-d4bd-4850-877f-8ff2bdd61b90",
        "colab": {
          "base_uri": "https://localhost:8080/",
          "height": 34
        }
      },
      "source": [
        "type(test_data)"
      ],
      "execution_count": 0,
      "outputs": [
        {
          "output_type": "execute_result",
          "data": {
            "text/plain": [
              "list"
            ]
          },
          "metadata": {
            "tags": []
          },
          "execution_count": 9
        }
      ]
    },
    {
      "cell_type": "code",
      "metadata": {
        "id": "NJDmkTdV3Sus",
        "colab_type": "code",
        "colab": {
          "base_uri": "https://localhost:8080/",
          "height": 36
        },
        "outputId": "92ccce5f-3368-4e72-bb9a-86fb184b89c9"
      },
      "source": [
        "type(train_data)"
      ],
      "execution_count": 4,
      "outputs": [
        {
          "output_type": "execute_result",
          "data": {
            "text/plain": [
              "list"
            ]
          },
          "metadata": {
            "tags": []
          },
          "execution_count": 4
        }
      ]
    },
    {
      "cell_type": "code",
      "metadata": {
        "id": "7_PWJptea5pn",
        "colab_type": "code",
        "outputId": "291678f3-62e9-4bac-bc7c-9f3614713fdf",
        "colab": {
          "base_uri": "https://localhost:8080/",
          "height": 34
        }
      },
      "source": [
        "len(train_data)"
      ],
      "execution_count": 0,
      "outputs": [
        {
          "output_type": "execute_result",
          "data": {
            "text/plain": [
              "10000"
            ]
          },
          "metadata": {
            "tags": []
          },
          "execution_count": 12
        }
      ]
    },
    {
      "cell_type": "code",
      "metadata": {
        "id": "atCW9RpE3Vhk",
        "colab_type": "code",
        "colab": {
          "base_uri": "https://localhost:8080/",
          "height": 36
        },
        "outputId": "ccae2fed-16b3-4ccc-c46c-782f58a54eb0"
      },
      "source": [
        "len(test_data)"
      ],
      "execution_count": 5,
      "outputs": [
        {
          "output_type": "execute_result",
          "data": {
            "text/plain": [
              "1000"
            ]
          },
          "metadata": {
            "tags": []
          },
          "execution_count": 5
        }
      ]
    },
    {
      "cell_type": "code",
      "metadata": {
        "id": "UfflSXlNa5ps",
        "colab_type": "code",
        "outputId": "0d214885-a598-44ca-a8b8-e06be256f33a",
        "colab": {
          "base_uri": "https://localhost:8080/",
          "height": 279
        }
      },
      "source": [
        "story,question,answer = train_data[0]\n",
        "story,question,answer"
      ],
      "execution_count": 11,
      "outputs": [
        {
          "output_type": "execute_result",
          "data": {
            "text/plain": [
              "(['Mary',\n",
              "  'moved',\n",
              "  'to',\n",
              "  'the',\n",
              "  'bathroom',\n",
              "  '.',\n",
              "  'Sandra',\n",
              "  'journeyed',\n",
              "  'to',\n",
              "  'the',\n",
              "  'bedroom',\n",
              "  '.'],\n",
              " ['Is', 'Sandra', 'in', 'the', 'hallway', '?'],\n",
              " 'no')"
            ]
          },
          "metadata": {
            "tags": []
          },
          "execution_count": 11
        }
      ]
    },
    {
      "cell_type": "code",
      "metadata": {
        "id": "Y5EsMnmQ3ht6",
        "colab_type": "code",
        "colab": {
          "base_uri": "https://localhost:8080/",
          "height": 541
        },
        "outputId": "782ef2b5-4836-4710-e44b-82c01cf4eaed"
      },
      "source": [
        "story,question,answer = train_data[1]\n",
        "story,question,answer"
      ],
      "execution_count": 12,
      "outputs": [
        {
          "output_type": "execute_result",
          "data": {
            "text/plain": [
              "(['Mary',\n",
              "  'moved',\n",
              "  'to',\n",
              "  'the',\n",
              "  'bathroom',\n",
              "  '.',\n",
              "  'Sandra',\n",
              "  'journeyed',\n",
              "  'to',\n",
              "  'the',\n",
              "  'bedroom',\n",
              "  '.',\n",
              "  'Mary',\n",
              "  'went',\n",
              "  'back',\n",
              "  'to',\n",
              "  'the',\n",
              "  'bedroom',\n",
              "  '.',\n",
              "  'Daniel',\n",
              "  'went',\n",
              "  'back',\n",
              "  'to',\n",
              "  'the',\n",
              "  'hallway',\n",
              "  '.'],\n",
              " ['Is', 'Daniel', 'in', 'the', 'bathroom', '?'],\n",
              " 'no')"
            ]
          },
          "metadata": {
            "tags": []
          },
          "execution_count": 12
        }
      ]
    },
    {
      "cell_type": "code",
      "metadata": {
        "id": "LkO83hSj3onq",
        "colab_type": "code",
        "colab": {
          "base_uri": "https://localhost:8080/",
          "height": 279
        },
        "outputId": "a86950a2-ca7e-4c69-bb41-5d9137538fdb"
      },
      "source": [
        "test_data[0]"
      ],
      "execution_count": 7,
      "outputs": [
        {
          "output_type": "execute_result",
          "data": {
            "text/plain": [
              "(['Mary',\n",
              "  'got',\n",
              "  'the',\n",
              "  'milk',\n",
              "  'there',\n",
              "  '.',\n",
              "  'John',\n",
              "  'moved',\n",
              "  'to',\n",
              "  'the',\n",
              "  'bedroom',\n",
              "  '.'],\n",
              " ['Is', 'John', 'in', 'the', 'kitchen', '?'],\n",
              " 'no')"
            ]
          },
          "metadata": {
            "tags": []
          },
          "execution_count": 7
        }
      ]
    },
    {
      "cell_type": "markdown",
      "metadata": {
        "id": "bR7lT-UNa5qD",
        "colab_type": "text"
      },
      "source": [
        "-----\n",
        "\n",
        "## Setting up Vocabulary of All Words"
      ]
    },
    {
      "cell_type": "code",
      "metadata": {
        "id": "lPHxf3JXa5qE",
        "colab_type": "code",
        "colab": {}
      },
      "source": [
        "# Create a set that holds the vocab words\n",
        "vocab = set()"
      ],
      "execution_count": 0,
      "outputs": []
    },
    {
      "cell_type": "code",
      "metadata": {
        "id": "yroUGLs7a5qK",
        "colab_type": "code",
        "colab": {}
      },
      "source": [
        "all_data = test_data + train_data"
      ],
      "execution_count": 0,
      "outputs": []
    },
    {
      "cell_type": "code",
      "metadata": {
        "id": "DSnJXuz1a5qQ",
        "colab_type": "code",
        "colab": {}
      },
      "source": [
        "for story, question , answer in all_data:\n",
        "    # In case you don't know what a union of sets is:\n",
        "    # https://www.programiz.com/python-programming/methods/set/union\n",
        "    vocab = vocab.union(set(story))\n",
        "    vocab = vocab.union(set(question))"
      ],
      "execution_count": 0,
      "outputs": []
    },
    {
      "cell_type": "code",
      "metadata": {
        "id": "T0V4ALeAa5qV",
        "colab_type": "code",
        "colab": {}
      },
      "source": [
        "# Include any other words in the bot's vocabulary\n",
        "vocab.add('no')\n",
        "vocab.add('yes')"
      ],
      "execution_count": 0,
      "outputs": []
    },
    {
      "cell_type": "code",
      "metadata": {
        "id": "X37F4gEZa5qa",
        "colab_type": "code",
        "outputId": "e7e6f974-e1d3-4c89-a143-b09fbb2d3cbf",
        "colab": {
          "base_uri": "https://localhost:8080/",
          "height": 709
        }
      },
      "source": [
        "vocab"
      ],
      "execution_count": 25,
      "outputs": [
        {
          "output_type": "execute_result",
          "data": {
            "text/plain": [
              "{'.',\n",
              " '?',\n",
              " 'Daniel',\n",
              " 'Is',\n",
              " 'John',\n",
              " 'Mary',\n",
              " 'Sandra',\n",
              " 'apple',\n",
              " 'back',\n",
              " 'bathroom',\n",
              " 'bedroom',\n",
              " 'discarded',\n",
              " 'down',\n",
              " 'dropped',\n",
              " 'football',\n",
              " 'garden',\n",
              " 'got',\n",
              " 'grabbed',\n",
              " 'hallway',\n",
              " 'in',\n",
              " 'journeyed',\n",
              " 'kitchen',\n",
              " 'left',\n",
              " 'milk',\n",
              " 'moved',\n",
              " 'no',\n",
              " 'office',\n",
              " 'picked',\n",
              " 'put',\n",
              " 'the',\n",
              " 'there',\n",
              " 'to',\n",
              " 'took',\n",
              " 'travelled',\n",
              " 'up',\n",
              " 'went',\n",
              " 'yes'}"
            ]
          },
          "metadata": {
            "tags": []
          },
          "execution_count": 25
        }
      ]
    },
    {
      "cell_type": "code",
      "metadata": {
        "id": "SmUOXfRva5qe",
        "colab_type": "code",
        "colab": {}
      },
      "source": [
        "vocab_len = len(vocab) + 1 #we add an extra space to hold a 0 for Keras's pad_sequences"
      ],
      "execution_count": 0,
      "outputs": []
    },
    {
      "cell_type": "code",
      "metadata": {
        "id": "TAH0SnYYa5qj",
        "colab_type": "code",
        "colab": {}
      },
      "source": [
        "max_story_len = max([len(data[0]) for data in all_data])"
      ],
      "execution_count": 0,
      "outputs": []
    },
    {
      "cell_type": "code",
      "metadata": {
        "id": "5fbcSZGQa5qp",
        "colab_type": "code",
        "outputId": "447bd524-732a-46a5-dd0a-82b7104defa5",
        "colab": {
          "base_uri": "https://localhost:8080/",
          "height": 36
        }
      },
      "source": [
        "max_story_len"
      ],
      "execution_count": 28,
      "outputs": [
        {
          "output_type": "execute_result",
          "data": {
            "text/plain": [
              "156"
            ]
          },
          "metadata": {
            "tags": []
          },
          "execution_count": 28
        }
      ]
    },
    {
      "cell_type": "code",
      "metadata": {
        "id": "zsZFkb7ra5q0",
        "colab_type": "code",
        "colab": {}
      },
      "source": [
        "max_question_len = max([len(data[1]) for data in all_data])"
      ],
      "execution_count": 0,
      "outputs": []
    },
    {
      "cell_type": "code",
      "metadata": {
        "id": "xLD1Pyl4a5q7",
        "colab_type": "code",
        "outputId": "94d7f9e0-a8df-49b4-ea99-fafc148e82bf",
        "colab": {
          "base_uri": "https://localhost:8080/",
          "height": 36
        }
      },
      "source": [
        "max_question_len"
      ],
      "execution_count": 30,
      "outputs": [
        {
          "output_type": "execute_result",
          "data": {
            "text/plain": [
              "6"
            ]
          },
          "metadata": {
            "tags": []
          },
          "execution_count": 30
        }
      ]
    },
    {
      "cell_type": "markdown",
      "metadata": {
        "id": "3ZlHWiyda5q_",
        "colab_type": "text"
      },
      "source": [
        "## Vectorizing the Data"
      ]
    },
    {
      "cell_type": "code",
      "metadata": {
        "id": "38vgdT3Ma5rA",
        "colab_type": "code",
        "outputId": "09b74f4d-8220-464f-ff32-592c214e9427",
        "colab": {
          "base_uri": "https://localhost:8080/",
          "height": 709
        }
      },
      "source": [
        "vocab"
      ],
      "execution_count": 31,
      "outputs": [
        {
          "output_type": "execute_result",
          "data": {
            "text/plain": [
              "{'.',\n",
              " '?',\n",
              " 'Daniel',\n",
              " 'Is',\n",
              " 'John',\n",
              " 'Mary',\n",
              " 'Sandra',\n",
              " 'apple',\n",
              " 'back',\n",
              " 'bathroom',\n",
              " 'bedroom',\n",
              " 'discarded',\n",
              " 'down',\n",
              " 'dropped',\n",
              " 'football',\n",
              " 'garden',\n",
              " 'got',\n",
              " 'grabbed',\n",
              " 'hallway',\n",
              " 'in',\n",
              " 'journeyed',\n",
              " 'kitchen',\n",
              " 'left',\n",
              " 'milk',\n",
              " 'moved',\n",
              " 'no',\n",
              " 'office',\n",
              " 'picked',\n",
              " 'put',\n",
              " 'the',\n",
              " 'there',\n",
              " 'to',\n",
              " 'took',\n",
              " 'travelled',\n",
              " 'up',\n",
              " 'went',\n",
              " 'yes'}"
            ]
          },
          "metadata": {
            "tags": []
          },
          "execution_count": 31
        }
      ]
    },
    {
      "cell_type": "code",
      "metadata": {
        "id": "6VASh8nIa5rF",
        "colab_type": "code",
        "colab": {}
      },
      "source": [
        "# Reserve 0 for pad_sequences\n",
        "vocab_size = len(vocab) + 1"
      ],
      "execution_count": 0,
      "outputs": []
    },
    {
      "cell_type": "markdown",
      "metadata": {
        "id": "G-if2LNba5rM",
        "colab_type": "text"
      },
      "source": [
        "-----------"
      ]
    },
    {
      "cell_type": "code",
      "metadata": {
        "id": "KZ4IS6a6a5rN",
        "colab_type": "code",
        "outputId": "d91e9e15-747f-4767-918f-dc4d24b67e5a",
        "colab": {
          "base_uri": "https://localhost:8080/",
          "height": 84
        }
      },
      "source": [
        "from keras.preprocessing.sequence import pad_sequences\n",
        "from keras.preprocessing.text import Tokenizer"
      ],
      "execution_count": 33,
      "outputs": [
        {
          "output_type": "stream",
          "text": [
            "Using TensorFlow backend.\n"
          ],
          "name": "stderr"
        },
        {
          "output_type": "display_data",
          "data": {
            "text/html": [
              "<p style=\"color: red;\">\n",
              "The default version of TensorFlow in Colab will soon switch to TensorFlow 2.x.<br>\n",
              "We recommend you <a href=\"https://www.tensorflow.org/guide/migrate\" target=\"_blank\">upgrade</a> now \n",
              "or ensure your notebook will continue to use TensorFlow 1.x via the <code>%tensorflow_version 1.x</code> magic:\n",
              "<a href=\"https://colab.research.google.com/notebooks/tensorflow_version.ipynb\" target=\"_blank\">more info</a>.</p>\n"
            ],
            "text/plain": [
              "<IPython.core.display.HTML object>"
            ]
          },
          "metadata": {
            "tags": []
          }
        }
      ]
    },
    {
      "cell_type": "code",
      "metadata": {
        "id": "8B1PWhoFa5rQ",
        "colab_type": "code",
        "colab": {}
      },
      "source": [
        "# integer encode sequences of words\n",
        "tokenizer = Tokenizer(filters=[])\n",
        "\n",
        "# TODO: Fit tokenizer on text\n",
        "tokenizer.fit_on_texts(vocab)"
      ],
      "execution_count": 0,
      "outputs": []
    },
    {
      "cell_type": "code",
      "metadata": {
        "id": "cDCVL9BG_e9O",
        "colab_type": "code",
        "colab": {
          "base_uri": "https://localhost:8080/",
          "height": 36
        },
        "outputId": "63fc4962-7cb7-4bbf-f81e-7022432fbe19"
      },
      "source": [
        "tokenizer.document_count"
      ],
      "execution_count": 59,
      "outputs": [
        {
          "output_type": "execute_result",
          "data": {
            "text/plain": [
              "37"
            ]
          },
          "metadata": {
            "tags": []
          },
          "execution_count": 59
        }
      ]
    },
    {
      "cell_type": "code",
      "metadata": {
        "id": "jsUe7d9954uN",
        "colab_type": "code",
        "colab": {
          "base_uri": "https://localhost:8080/",
          "height": 709
        },
        "outputId": "60e1a1e6-5672-4e1a-8692-d09e7c623715"
      },
      "source": [
        "tokenizer.word_index"
      ],
      "execution_count": 51,
      "outputs": [
        {
          "output_type": "execute_result",
          "data": {
            "text/plain": [
              "{'.': 21,\n",
              " '?': 24,\n",
              " 'apple': 37,\n",
              " 'back': 8,\n",
              " 'bathroom': 16,\n",
              " 'bedroom': 27,\n",
              " 'daniel': 34,\n",
              " 'discarded': 15,\n",
              " 'down': 26,\n",
              " 'dropped': 23,\n",
              " 'football': 14,\n",
              " 'garden': 19,\n",
              " 'got': 36,\n",
              " 'grabbed': 25,\n",
              " 'hallway': 33,\n",
              " 'in': 17,\n",
              " 'is': 6,\n",
              " 'john': 22,\n",
              " 'journeyed': 9,\n",
              " 'kitchen': 28,\n",
              " 'left': 30,\n",
              " 'mary': 11,\n",
              " 'milk': 7,\n",
              " 'moved': 18,\n",
              " 'no': 1,\n",
              " 'office': 13,\n",
              " 'picked': 12,\n",
              " 'put': 32,\n",
              " 'sandra': 31,\n",
              " 'the': 2,\n",
              " 'there': 5,\n",
              " 'to': 4,\n",
              " 'took': 29,\n",
              " 'travelled': 10,\n",
              " 'up': 20,\n",
              " 'went': 3,\n",
              " 'yes': 35}"
            ]
          },
          "metadata": {
            "tags": []
          },
          "execution_count": 51
        }
      ]
    },
    {
      "cell_type": "code",
      "metadata": {
        "id": "83AGtmI4a5rT",
        "colab_type": "code",
        "outputId": "b3062e37-b68a-43b9-ccdf-1940b647cec2",
        "colab": {
          "base_uri": "https://localhost:8080/",
          "height": 646
        }
      },
      "source": [
        "tokenizer.word_index"
      ],
      "execution_count": 0,
      "outputs": [
        {
          "output_type": "execute_result",
          "data": {
            "text/plain": [
              "{'.': 21,\n",
              " '?': 36,\n",
              " 'apple': 14,\n",
              " 'back': 15,\n",
              " 'bathroom': 7,\n",
              " 'bedroom': 3,\n",
              " 'daniel': 35,\n",
              " 'discarded': 12,\n",
              " 'down': 32,\n",
              " 'dropped': 26,\n",
              " 'football': 5,\n",
              " 'garden': 34,\n",
              " 'got': 18,\n",
              " 'grabbed': 27,\n",
              " 'hallway': 11,\n",
              " 'in': 31,\n",
              " 'is': 17,\n",
              " 'john': 16,\n",
              " 'journeyed': 30,\n",
              " 'kitchen': 33,\n",
              " 'left': 37,\n",
              " 'mary': 1,\n",
              " 'milk': 20,\n",
              " 'moved': 9,\n",
              " 'no': 2,\n",
              " 'office': 13,\n",
              " 'picked': 29,\n",
              " 'put': 23,\n",
              " 'sandra': 4,\n",
              " 'the': 25,\n",
              " 'there': 10,\n",
              " 'to': 6,\n",
              " 'took': 19,\n",
              " 'travelled': 28,\n",
              " 'up': 8,\n",
              " 'went': 22,\n",
              " 'yes': 24}"
            ]
          },
          "metadata": {
            "tags": []
          },
          "execution_count": 31
        }
      ]
    },
    {
      "cell_type": "code",
      "metadata": {
        "id": "qc0-V6aMa5rc",
        "colab_type": "code",
        "colab": {}
      },
      "source": [
        "train_story_text = []\n",
        "train_question_text = []\n",
        "train_answers = []\n",
        "\n",
        "# TODO: Fill the story, question, and answers list\n",
        "for story, question, answer in train_data:\n",
        "  train_story_text.append(story)\n",
        "  train_question_text.append(question)\n",
        "  train_answers.append(answer)"
      ],
      "execution_count": 0,
      "outputs": []
    },
    {
      "cell_type": "code",
      "metadata": {
        "id": "pse59hvwa5rg",
        "colab_type": "code",
        "colab": {}
      },
      "source": [
        "# TODO: Vectorize into word sequences."
      ],
      "execution_count": 0,
      "outputs": []
    },
    {
      "cell_type": "code",
      "metadata": {
        "id": "wdPIW9Fja5rk",
        "colab_type": "code",
        "outputId": "86b96d78-48c8-4f54-b38f-a11aa7264001",
        "colab": {
          "base_uri": "https://localhost:8080/",
          "height": 34
        }
      },
      "source": [
        "len(train_story_text)"
      ],
      "execution_count": 0,
      "outputs": [
        {
          "output_type": "execute_result",
          "data": {
            "text/plain": [
              "10000"
            ]
          },
          "metadata": {
            "tags": []
          },
          "execution_count": 34
        }
      ]
    },
    {
      "cell_type": "code",
      "metadata": {
        "id": "6Hc0L1-Ja5ru",
        "colab_type": "code",
        "outputId": "1b2b03e5-ddf8-4f20-f538-f76af7c050f6",
        "colab": {
          "base_uri": "https://localhost:8080/",
          "height": 34
        }
      },
      "source": [
        "len(train_story_seq)"
      ],
      "execution_count": 0,
      "outputs": [
        {
          "output_type": "execute_result",
          "data": {
            "text/plain": [
              "10000"
            ]
          },
          "metadata": {
            "tags": []
          },
          "execution_count": 35
        }
      ]
    },
    {
      "cell_type": "code",
      "metadata": {
        "id": "QiKdtuVKGUrE",
        "colab_type": "code",
        "colab": {
          "base_uri": "https://localhost:8080/",
          "height": 503
        },
        "outputId": "f1511015-8bc3-4ea9-e4d3-7e4c5b8ee3a6"
      },
      "source": [
        "train_data[1][0]"
      ],
      "execution_count": 85,
      "outputs": [
        {
          "output_type": "execute_result",
          "data": {
            "text/plain": [
              "['Mary',\n",
              " 'moved',\n",
              " 'to',\n",
              " 'the',\n",
              " 'bathroom',\n",
              " '.',\n",
              " 'Sandra',\n",
              " 'journeyed',\n",
              " 'to',\n",
              " 'the',\n",
              " 'bedroom',\n",
              " '.',\n",
              " 'Mary',\n",
              " 'went',\n",
              " 'back',\n",
              " 'to',\n",
              " 'the',\n",
              " 'bedroom',\n",
              " '.',\n",
              " 'Daniel',\n",
              " 'went',\n",
              " 'back',\n",
              " 'to',\n",
              " 'the',\n",
              " 'hallway',\n",
              " '.']"
            ]
          },
          "metadata": {
            "tags": []
          },
          "execution_count": 85
        }
      ]
    },
    {
      "cell_type": "code",
      "metadata": {
        "id": "ocVR0UIOH6_j",
        "colab_type": "code",
        "colab": {
          "base_uri": "https://localhost:8080/",
          "height": 36
        },
        "outputId": "63d0874d-fc47-461c-b73c-428c8c4340af"
      },
      "source": [
        "tokenizer.word_index['apple']"
      ],
      "execution_count": 86,
      "outputs": [
        {
          "output_type": "execute_result",
          "data": {
            "text/plain": [
              "37"
            ]
          },
          "metadata": {
            "tags": []
          },
          "execution_count": 86
        }
      ]
    },
    {
      "cell_type": "code",
      "metadata": {
        "id": "YLTo4jaSJpoP",
        "colab_type": "code",
        "colab": {
          "base_uri": "https://localhost:8080/",
          "height": 36
        },
        "outputId": "83571565-dc5f-457d-b7e5-3bff5f7c8858"
      },
      "source": [
        "train_data[5][2]"
      ],
      "execution_count": 91,
      "outputs": [
        {
          "output_type": "execute_result",
          "data": {
            "text/plain": [
              "'yes'"
            ]
          },
          "metadata": {
            "tags": []
          },
          "execution_count": 91
        }
      ]
    },
    {
      "cell_type": "markdown",
      "metadata": {
        "id": "-3GCN3cva5sC",
        "colab_type": "text"
      },
      "source": [
        "### Functionalize Vectorization"
      ]
    },
    {
      "cell_type": "code",
      "metadata": {
        "id": "1cChCcedNH6f",
        "colab_type": "code",
        "colab": {
          "base_uri": "https://localhost:8080/",
          "height": 241
        },
        "outputId": "7e265b2c-217e-4a44-e72a-ef94b41958a4"
      },
      "source": [
        "from numpy import array\n",
        "from sklearn.preprocessing import LabelEncoder\n",
        "from sklearn.preprocessing import OneHotEncoder\n",
        "# define example\n",
        "data = ['cold', 'cold', 'warm', 'cold', 'hot', 'hot', 'warm', 'cold', 'warm', 'hot']\n",
        "values = array(data)\n",
        "print(values)\n",
        "# integer encode\n",
        "label_encoder = LabelEncoder()\n",
        "integer_encoded = label_encoder.fit_transform(values)\n",
        "print(integer_encoded)\n",
        "# binary encode\n",
        "onehot_encoder = OneHotEncoder(sparse=False)\n",
        "integer_encoded = integer_encoded.reshape(len(integer_encoded), 1)\n",
        "onehot_encoded = onehot_encoder.fit_transform(integer_encoded)\n",
        "print(onehot_encoded)"
      ],
      "execution_count": 116,
      "outputs": [
        {
          "output_type": "stream",
          "text": [
            "['cold' 'cold' 'warm' 'cold' 'hot' 'hot' 'warm' 'cold' 'warm' 'hot']\n",
            "[0 0 2 0 1 1 2 0 2 1]\n",
            "[[1. 0. 0.]\n",
            " [1. 0. 0.]\n",
            " [0. 0. 1.]\n",
            " [1. 0. 0.]\n",
            " [0. 1. 0.]\n",
            " [0. 1. 0.]\n",
            " [0. 0. 1.]\n",
            " [1. 0. 0.]\n",
            " [0. 0. 1.]\n",
            " [0. 1. 0.]]\n"
          ],
          "name": "stdout"
        }
      ]
    },
    {
      "cell_type": "code",
      "metadata": {
        "id": "XIm6vjlca5sE",
        "colab_type": "code",
        "colab": {}
      },
      "source": [
        "def vectorize_stories(data, \n",
        "                      word_index=tokenizer.word_index, \n",
        "                      max_story_len=max_story_len,\n",
        "                      max_question_len=max_question_len):\n",
        "    '''\n",
        "    INPUT: \n",
        "    \n",
        "    data: consisting of Stories,Queries,and Answers\n",
        "    word_index: word index dictionary from tokenizer\n",
        "    max_story_len: the length of the longest story (used for pad_sequences function)\n",
        "    max_question_len: length of the longest question (used for pad_sequences function)\n",
        "\n",
        "\n",
        "    OUTPUT:\n",
        "    \n",
        "    Vectorizes the stories,questions, and answers into padded sequences. We first loop for every story, query , and\n",
        "    answer in the data. Then we convert the raw words to an word index value. Then we append each set to their appropriate\n",
        "    output list. Then once we have converted the words to numbers, we pad the sequences so they are all of equal length.\n",
        "    \n",
        "    Returns this in the form of a tuple (X,Xq,Y) (padded based on max lengths)\n",
        "    '''\n",
        "    \n",
        "    \n",
        "    # X = STORIES\n",
        "    X = []\n",
        "    # Xq = QUERY/QUESTION\n",
        "    Xq = []\n",
        "    # Y = CORRECT ANSWER\n",
        "    Y = []\n",
        "    \n",
        "    \n",
        "    for story, query, answer in data:\n",
        "        x = []\n",
        "        xq = []\n",
        "        y = []\n",
        "\n",
        "        # TODO: Store every word from story into a list\n",
        "        # TODO: Store every word from query into a list\n",
        "        for st in story:\n",
        "          x.append(tokenizer.word_index[str(st).lower()])\n",
        "        for qu in query:\n",
        "          xq.append(tokenizer.word_index[str(qu).lower()])\n",
        "        # TODO: One-hot encode the label into a list\n",
        "        y.append(to_categorical(answer))\n",
        "\n",
        "        # Append each set of story,query, and answer to their respective holding lists\n",
        "        X.append(x)\n",
        "        Xq.append(xq)\n",
        "        Y.append(y)\n",
        "        \n",
        "    # RETURN TUPLE of paded, uniform sequences FOR UNPACKING\n",
        "    return (pad_sequences(X, maxlen=max_story_len),pad_sequences(Xq, maxlen=max_question_len), np.array(Y))"
      ],
      "execution_count": 0,
      "outputs": []
    },
    {
      "cell_type": "code",
      "metadata": {
        "id": "8iFoz6nVa5sP",
        "colab_type": "code",
        "colab": {
          "base_uri": "https://localhost:8080/",
          "height": 329
        },
        "outputId": "3c71c411-4fef-479e-9e4f-46750ef49697"
      },
      "source": [
        "inputs_train, queries_train, answers_train = vectorize_stories(train_data)"
      ],
      "execution_count": 115,
      "outputs": [
        {
          "output_type": "error",
          "ename": "ValueError",
          "evalue": "ignored",
          "traceback": [
            "\u001b[0;31m---------------------------------------------------------------------------\u001b[0m",
            "\u001b[0;31mValueError\u001b[0m                                Traceback (most recent call last)",
            "\u001b[0;32m<ipython-input-115-71b37c394e99>\u001b[0m in \u001b[0;36m<module>\u001b[0;34m()\u001b[0m\n\u001b[0;32m----> 1\u001b[0;31m \u001b[0minputs_train\u001b[0m\u001b[0;34m,\u001b[0m \u001b[0mqueries_train\u001b[0m\u001b[0;34m,\u001b[0m \u001b[0manswers_train\u001b[0m \u001b[0;34m=\u001b[0m \u001b[0mvectorize_stories\u001b[0m\u001b[0;34m(\u001b[0m\u001b[0mtrain_data\u001b[0m\u001b[0;34m)\u001b[0m\u001b[0;34m\u001b[0m\u001b[0;34m\u001b[0m\u001b[0m\n\u001b[0m",
            "\u001b[0;32m<ipython-input-114-68d1cf8055b2>\u001b[0m in \u001b[0;36mvectorize_stories\u001b[0;34m(data, word_index, max_story_len, max_question_len)\u001b[0m\n\u001b[1;32m     42\u001b[0m           \u001b[0mxq\u001b[0m\u001b[0;34m.\u001b[0m\u001b[0mappend\u001b[0m\u001b[0;34m(\u001b[0m\u001b[0mtokenizer\u001b[0m\u001b[0;34m.\u001b[0m\u001b[0mword_index\u001b[0m\u001b[0;34m[\u001b[0m\u001b[0mstr\u001b[0m\u001b[0;34m(\u001b[0m\u001b[0mqu\u001b[0m\u001b[0;34m)\u001b[0m\u001b[0;34m.\u001b[0m\u001b[0mlower\u001b[0m\u001b[0;34m(\u001b[0m\u001b[0;34m)\u001b[0m\u001b[0;34m]\u001b[0m\u001b[0;34m)\u001b[0m\u001b[0;34m\u001b[0m\u001b[0;34m\u001b[0m\u001b[0m\n\u001b[1;32m     43\u001b[0m         \u001b[0;31m# TODO: One-hot encode the label into a list\u001b[0m\u001b[0;34m\u001b[0m\u001b[0;34m\u001b[0m\u001b[0;34m\u001b[0m\u001b[0m\n\u001b[0;32m---> 44\u001b[0;31m         \u001b[0my\u001b[0m\u001b[0;34m.\u001b[0m\u001b[0mappend\u001b[0m\u001b[0;34m(\u001b[0m\u001b[0mto_categorical\u001b[0m\u001b[0;34m(\u001b[0m\u001b[0manswer\u001b[0m\u001b[0;34m)\u001b[0m\u001b[0;34m)\u001b[0m\u001b[0;34m\u001b[0m\u001b[0;34m\u001b[0m\u001b[0m\n\u001b[0m\u001b[1;32m     45\u001b[0m \u001b[0;34m\u001b[0m\u001b[0m\n\u001b[1;32m     46\u001b[0m         \u001b[0;31m# Append each set of story,query, and answer to their respective holding lists\u001b[0m\u001b[0;34m\u001b[0m\u001b[0;34m\u001b[0m\u001b[0;34m\u001b[0m\u001b[0m\n",
            "\u001b[0;32m/usr/local/lib/python3.6/dist-packages/keras/utils/np_utils.py\u001b[0m in \u001b[0;36mto_categorical\u001b[0;34m(y, num_classes, dtype)\u001b[0m\n\u001b[1;32m     41\u001b[0m     \"\"\"\n\u001b[1;32m     42\u001b[0m \u001b[0;34m\u001b[0m\u001b[0m\n\u001b[0;32m---> 43\u001b[0;31m     \u001b[0my\u001b[0m \u001b[0;34m=\u001b[0m \u001b[0mnp\u001b[0m\u001b[0;34m.\u001b[0m\u001b[0marray\u001b[0m\u001b[0;34m(\u001b[0m\u001b[0my\u001b[0m\u001b[0;34m,\u001b[0m \u001b[0mdtype\u001b[0m\u001b[0;34m=\u001b[0m\u001b[0;34m'int'\u001b[0m\u001b[0;34m)\u001b[0m\u001b[0;34m\u001b[0m\u001b[0;34m\u001b[0m\u001b[0m\n\u001b[0m\u001b[1;32m     44\u001b[0m     \u001b[0minput_shape\u001b[0m \u001b[0;34m=\u001b[0m \u001b[0my\u001b[0m\u001b[0;34m.\u001b[0m\u001b[0mshape\u001b[0m\u001b[0;34m\u001b[0m\u001b[0;34m\u001b[0m\u001b[0m\n\u001b[1;32m     45\u001b[0m     \u001b[0;32mif\u001b[0m \u001b[0minput_shape\u001b[0m \u001b[0;32mand\u001b[0m \u001b[0minput_shape\u001b[0m\u001b[0;34m[\u001b[0m\u001b[0;34m-\u001b[0m\u001b[0;36m1\u001b[0m\u001b[0;34m]\u001b[0m \u001b[0;34m==\u001b[0m \u001b[0;36m1\u001b[0m \u001b[0;32mand\u001b[0m \u001b[0mlen\u001b[0m\u001b[0;34m(\u001b[0m\u001b[0minput_shape\u001b[0m\u001b[0;34m)\u001b[0m \u001b[0;34m>\u001b[0m \u001b[0;36m1\u001b[0m\u001b[0;34m:\u001b[0m\u001b[0;34m\u001b[0m\u001b[0;34m\u001b[0m\u001b[0m\n",
            "\u001b[0;31mValueError\u001b[0m: invalid literal for int() with base 10: 'no'"
          ]
        }
      ]
    },
    {
      "cell_type": "code",
      "metadata": {
        "id": "iu3NeJvtK4hu",
        "colab_type": "code",
        "colab": {
          "base_uri": "https://localhost:8080/",
          "height": 148
        },
        "outputId": "78787e62-443e-4b3a-814b-f122562b2e91"
      },
      "source": [
        "inputs_train"
      ],
      "execution_count": 100,
      "outputs": [
        {
          "output_type": "execute_result",
          "data": {
            "text/plain": [
              "array([[ 0,  0,  0, ...,  2, 27, 21],\n",
              "       [ 0,  0,  0, ...,  2, 33, 21],\n",
              "       [ 0,  0,  0, ...,  2, 16, 21],\n",
              "       ...,\n",
              "       [ 0,  0,  0, ...,  2, 27, 21],\n",
              "       [ 0,  0,  0, ...,  7,  5, 21],\n",
              "       [ 0,  0,  0, ..., 37,  5, 21]], dtype=int32)"
            ]
          },
          "metadata": {
            "tags": []
          },
          "execution_count": 100
        }
      ]
    },
    {
      "cell_type": "code",
      "metadata": {
        "id": "lGIK6kW6K7Jh",
        "colab_type": "code",
        "colab": {
          "base_uri": "https://localhost:8080/",
          "height": 148
        },
        "outputId": "fac6d308-e97d-4f0d-ba8d-b512ed6e0f0d"
      },
      "source": [
        "queries_train"
      ],
      "execution_count": 101,
      "outputs": [
        {
          "output_type": "execute_result",
          "data": {
            "text/plain": [
              "array([[ 6, 31, 17,  2, 33, 24],\n",
              "       [ 6, 34, 17,  2, 16, 24],\n",
              "       [ 6, 34, 17,  2, 13, 24],\n",
              "       ...,\n",
              "       [ 6, 31, 17,  2, 33, 24],\n",
              "       [ 6, 11, 17,  2, 28, 24],\n",
              "       [ 6, 11, 17,  2, 27, 24]], dtype=int32)"
            ]
          },
          "metadata": {
            "tags": []
          },
          "execution_count": 101
        }
      ]
    },
    {
      "cell_type": "code",
      "metadata": {
        "id": "TJMIHcKyK-FC",
        "colab_type": "code",
        "colab": {
          "base_uri": "https://localhost:8080/",
          "height": 148
        },
        "outputId": "35bbfe30-afbd-4b79-f4af-89038e1032bc"
      },
      "source": [
        "answers_train"
      ],
      "execution_count": 102,
      "outputs": [
        {
          "output_type": "execute_result",
          "data": {
            "text/plain": [
              "array([[ 1],\n",
              "       [ 1],\n",
              "       [ 1],\n",
              "       ...,\n",
              "       [ 1],\n",
              "       [ 1],\n",
              "       [35]])"
            ]
          },
          "metadata": {
            "tags": []
          },
          "execution_count": 102
        }
      ]
    },
    {
      "cell_type": "code",
      "metadata": {
        "id": "eejFwvhua5sS",
        "colab_type": "code",
        "colab": {}
      },
      "source": [
        "inputs_test, queries_test, answers_test = vectorize_stories(test_data)"
      ],
      "execution_count": 0,
      "outputs": []
    },
    {
      "cell_type": "code",
      "metadata": {
        "id": "oqM-FW02LCPM",
        "colab_type": "code",
        "colab": {
          "base_uri": "https://localhost:8080/",
          "height": 148
        },
        "outputId": "9162dda3-1843-4be6-add0-cd8d4fca2936"
      },
      "source": [
        "inputs_test"
      ],
      "execution_count": 104,
      "outputs": [
        {
          "output_type": "execute_result",
          "data": {
            "text/plain": [
              "array([[ 0,  0,  0, ...,  2, 27, 21],\n",
              "       [ 0,  0,  0, ...,  2, 19, 21],\n",
              "       [ 0,  0,  0, ...,  2, 19, 21],\n",
              "       ...,\n",
              "       [ 0,  0,  0, ...,  2, 37, 21],\n",
              "       [ 0,  0,  0, ...,  2, 19, 21],\n",
              "       [ 0,  0,  0, ..., 37,  5, 21]], dtype=int32)"
            ]
          },
          "metadata": {
            "tags": []
          },
          "execution_count": 104
        }
      ]
    },
    {
      "cell_type": "code",
      "metadata": {
        "id": "rGRoTxura5sV",
        "colab_type": "code",
        "outputId": "7cf846d3-0bbf-4f79-f489-53d86171fb2b",
        "colab": {
          "base_uri": "https://localhost:8080/",
          "height": 136
        }
      },
      "source": [
        "inputs_test"
      ],
      "execution_count": 0,
      "outputs": [
        {
          "output_type": "execute_result",
          "data": {
            "text/plain": [
              "array([[ 0,  0,  0, ..., 25,  3, 21],\n",
              "       [ 0,  0,  0, ..., 25, 34, 21],\n",
              "       [ 0,  0,  0, ..., 25, 34, 21],\n",
              "       ...,\n",
              "       [ 0,  0,  0, ..., 25, 14, 21],\n",
              "       [ 0,  0,  0, ..., 25, 34, 21],\n",
              "       [ 0,  0,  0, ..., 14, 10, 21]], dtype=int32)"
            ]
          },
          "metadata": {
            "tags": []
          },
          "execution_count": 40
        }
      ]
    },
    {
      "cell_type": "code",
      "metadata": {
        "id": "CxoZQFdILFY0",
        "colab_type": "code",
        "colab": {
          "base_uri": "https://localhost:8080/",
          "height": 148
        },
        "outputId": "ff2bc765-6b49-49e7-e8d7-8c2518de3ff3"
      },
      "source": [
        "queries_test"
      ],
      "execution_count": 105,
      "outputs": [
        {
          "output_type": "execute_result",
          "data": {
            "text/plain": [
              "array([[ 6, 22, 17,  2, 28, 24],\n",
              "       [ 6, 22, 17,  2, 28, 24],\n",
              "       [ 6, 22, 17,  2, 19, 24],\n",
              "       ...,\n",
              "       [ 6, 11, 17,  2, 27, 24],\n",
              "       [ 6, 31, 17,  2, 19, 24],\n",
              "       [ 6, 11, 17,  2, 19, 24]], dtype=int32)"
            ]
          },
          "metadata": {
            "tags": []
          },
          "execution_count": 105
        }
      ]
    },
    {
      "cell_type": "code",
      "metadata": {
        "id": "RQ-_qK08a5sf",
        "colab_type": "code",
        "outputId": "934f3c10-9e0f-4293-8bc8-47672346e8e6",
        "colab": {
          "base_uri": "https://localhost:8080/",
          "height": 136
        }
      },
      "source": [
        "queries_test"
      ],
      "execution_count": 0,
      "outputs": [
        {
          "output_type": "execute_result",
          "data": {
            "text/plain": [
              "array([[17, 16, 31, 25, 33, 36],\n",
              "       [17, 16, 31, 25, 33, 36],\n",
              "       [17, 16, 31, 25, 34, 36],\n",
              "       ...,\n",
              "       [17,  1, 31, 25,  3, 36],\n",
              "       [17,  4, 31, 25, 34, 36],\n",
              "       [17,  1, 31, 25, 34, 36]], dtype=int32)"
            ]
          },
          "metadata": {
            "tags": []
          },
          "execution_count": 41
        }
      ]
    },
    {
      "cell_type": "code",
      "metadata": {
        "id": "b3R8-PYuLHtu",
        "colab_type": "code",
        "colab": {
          "base_uri": "https://localhost:8080/",
          "height": 1000
        },
        "outputId": "48dad9bd-cdd4-489d-b678-09d2a3ba6422"
      },
      "source": [
        "answers_test"
      ],
      "execution_count": 109,
      "outputs": [
        {
          "output_type": "execute_result",
          "data": {
            "text/plain": [
              "array([[ 1],\n",
              "       [ 1],\n",
              "       [35],\n",
              "       [35],\n",
              "       [ 1],\n",
              "       [ 1],\n",
              "       [ 1],\n",
              "       [35],\n",
              "       [ 1],\n",
              "       [35],\n",
              "       [35],\n",
              "       [ 1],\n",
              "       [35],\n",
              "       [35],\n",
              "       [35],\n",
              "       [35],\n",
              "       [35],\n",
              "       [ 1],\n",
              "       [ 1],\n",
              "       [ 1],\n",
              "       [35],\n",
              "       [ 1],\n",
              "       [35],\n",
              "       [ 1],\n",
              "       [ 1],\n",
              "       [35],\n",
              "       [35],\n",
              "       [35],\n",
              "       [ 1],\n",
              "       [35],\n",
              "       [35],\n",
              "       [ 1],\n",
              "       [ 1],\n",
              "       [ 1],\n",
              "       [ 1],\n",
              "       [ 1],\n",
              "       [35],\n",
              "       [35],\n",
              "       [35],\n",
              "       [ 1],\n",
              "       [35],\n",
              "       [ 1],\n",
              "       [ 1],\n",
              "       [ 1],\n",
              "       [35],\n",
              "       [35],\n",
              "       [35],\n",
              "       [ 1],\n",
              "       [35],\n",
              "       [35],\n",
              "       [35],\n",
              "       [35],\n",
              "       [35],\n",
              "       [35],\n",
              "       [35],\n",
              "       [ 1],\n",
              "       [ 1],\n",
              "       [35],\n",
              "       [ 1],\n",
              "       [ 1],\n",
              "       [ 1],\n",
              "       [ 1],\n",
              "       [ 1],\n",
              "       [ 1],\n",
              "       [35],\n",
              "       [35],\n",
              "       [35],\n",
              "       [35],\n",
              "       [ 1],\n",
              "       [ 1],\n",
              "       [ 1],\n",
              "       [35],\n",
              "       [ 1],\n",
              "       [35],\n",
              "       [ 1],\n",
              "       [35],\n",
              "       [35],\n",
              "       [35],\n",
              "       [ 1],\n",
              "       [35],\n",
              "       [35],\n",
              "       [ 1],\n",
              "       [35],\n",
              "       [35],\n",
              "       [ 1],\n",
              "       [ 1],\n",
              "       [35],\n",
              "       [ 1],\n",
              "       [35],\n",
              "       [35],\n",
              "       [35],\n",
              "       [ 1],\n",
              "       [ 1],\n",
              "       [ 1],\n",
              "       [35],\n",
              "       [ 1],\n",
              "       [ 1],\n",
              "       [35],\n",
              "       [35],\n",
              "       [ 1],\n",
              "       [ 1],\n",
              "       [ 1],\n",
              "       [ 1],\n",
              "       [ 1],\n",
              "       [ 1],\n",
              "       [ 1],\n",
              "       [ 1],\n",
              "       [ 1],\n",
              "       [ 1],\n",
              "       [ 1],\n",
              "       [ 1],\n",
              "       [ 1],\n",
              "       [35],\n",
              "       [35],\n",
              "       [35],\n",
              "       [ 1],\n",
              "       [35],\n",
              "       [35],\n",
              "       [35],\n",
              "       [ 1],\n",
              "       [ 1],\n",
              "       [35],\n",
              "       [35],\n",
              "       [ 1],\n",
              "       [35],\n",
              "       [ 1],\n",
              "       [ 1],\n",
              "       [ 1],\n",
              "       [ 1],\n",
              "       [ 1],\n",
              "       [ 1],\n",
              "       [35],\n",
              "       [ 1],\n",
              "       [35],\n",
              "       [ 1],\n",
              "       [ 1],\n",
              "       [ 1],\n",
              "       [ 1],\n",
              "       [ 1],\n",
              "       [ 1],\n",
              "       [ 1],\n",
              "       [35],\n",
              "       [ 1],\n",
              "       [ 1],\n",
              "       [35],\n",
              "       [35],\n",
              "       [ 1],\n",
              "       [35],\n",
              "       [ 1],\n",
              "       [ 1],\n",
              "       [35],\n",
              "       [35],\n",
              "       [ 1],\n",
              "       [35],\n",
              "       [ 1],\n",
              "       [ 1],\n",
              "       [ 1],\n",
              "       [ 1],\n",
              "       [ 1],\n",
              "       [ 1],\n",
              "       [35],\n",
              "       [35],\n",
              "       [35],\n",
              "       [35],\n",
              "       [35],\n",
              "       [ 1],\n",
              "       [35],\n",
              "       [ 1],\n",
              "       [35],\n",
              "       [35],\n",
              "       [35],\n",
              "       [ 1],\n",
              "       [ 1],\n",
              "       [ 1],\n",
              "       [ 1],\n",
              "       [35],\n",
              "       [35],\n",
              "       [ 1],\n",
              "       [ 1],\n",
              "       [ 1],\n",
              "       [35],\n",
              "       [35],\n",
              "       [35],\n",
              "       [35],\n",
              "       [ 1],\n",
              "       [35],\n",
              "       [35],\n",
              "       [35],\n",
              "       [35],\n",
              "       [ 1],\n",
              "       [35],\n",
              "       [ 1],\n",
              "       [35],\n",
              "       [35],\n",
              "       [35],\n",
              "       [35],\n",
              "       [35],\n",
              "       [ 1],\n",
              "       [ 1],\n",
              "       [35],\n",
              "       [35],\n",
              "       [35],\n",
              "       [ 1],\n",
              "       [ 1],\n",
              "       [ 1],\n",
              "       [35],\n",
              "       [35],\n",
              "       [ 1],\n",
              "       [35],\n",
              "       [35],\n",
              "       [35],\n",
              "       [ 1],\n",
              "       [ 1],\n",
              "       [ 1],\n",
              "       [ 1],\n",
              "       [ 1],\n",
              "       [35],\n",
              "       [ 1],\n",
              "       [ 1],\n",
              "       [35],\n",
              "       [35],\n",
              "       [ 1],\n",
              "       [ 1],\n",
              "       [35],\n",
              "       [35],\n",
              "       [35],\n",
              "       [35],\n",
              "       [ 1],\n",
              "       [35],\n",
              "       [ 1],\n",
              "       [ 1],\n",
              "       [35],\n",
              "       [ 1],\n",
              "       [35],\n",
              "       [35],\n",
              "       [35],\n",
              "       [ 1],\n",
              "       [ 1],\n",
              "       [ 1],\n",
              "       [ 1],\n",
              "       [ 1],\n",
              "       [ 1],\n",
              "       [35],\n",
              "       [ 1],\n",
              "       [ 1],\n",
              "       [35],\n",
              "       [35],\n",
              "       [35],\n",
              "       [ 1],\n",
              "       [35],\n",
              "       [35],\n",
              "       [35],\n",
              "       [ 1],\n",
              "       [35],\n",
              "       [35],\n",
              "       [35],\n",
              "       [35],\n",
              "       [35],\n",
              "       [ 1],\n",
              "       [35],\n",
              "       [ 1],\n",
              "       [35],\n",
              "       [35],\n",
              "       [ 1],\n",
              "       [ 1],\n",
              "       [35],\n",
              "       [ 1],\n",
              "       [ 1],\n",
              "       [35],\n",
              "       [ 1],\n",
              "       [35],\n",
              "       [ 1],\n",
              "       [ 1],\n",
              "       [35],\n",
              "       [ 1],\n",
              "       [35],\n",
              "       [35],\n",
              "       [35],\n",
              "       [ 1],\n",
              "       [ 1],\n",
              "       [35],\n",
              "       [ 1],\n",
              "       [35],\n",
              "       [35],\n",
              "       [35],\n",
              "       [35],\n",
              "       [ 1],\n",
              "       [ 1],\n",
              "       [35],\n",
              "       [ 1],\n",
              "       [35],\n",
              "       [ 1],\n",
              "       [35],\n",
              "       [ 1],\n",
              "       [ 1],\n",
              "       [ 1],\n",
              "       [35],\n",
              "       [ 1],\n",
              "       [ 1],\n",
              "       [35],\n",
              "       [35],\n",
              "       [ 1],\n",
              "       [35],\n",
              "       [35],\n",
              "       [ 1],\n",
              "       [35],\n",
              "       [ 1],\n",
              "       [35],\n",
              "       [ 1],\n",
              "       [ 1],\n",
              "       [35],\n",
              "       [ 1],\n",
              "       [35],\n",
              "       [ 1],\n",
              "       [35],\n",
              "       [ 1],\n",
              "       [35],\n",
              "       [ 1],\n",
              "       [ 1],\n",
              "       [35],\n",
              "       [35],\n",
              "       [ 1],\n",
              "       [ 1],\n",
              "       [35],\n",
              "       [ 1],\n",
              "       [ 1],\n",
              "       [ 1],\n",
              "       [ 1],\n",
              "       [ 1],\n",
              "       [ 1],\n",
              "       [35],\n",
              "       [ 1],\n",
              "       [35],\n",
              "       [35],\n",
              "       [35],\n",
              "       [35],\n",
              "       [ 1],\n",
              "       [ 1],\n",
              "       [35],\n",
              "       [ 1],\n",
              "       [ 1],\n",
              "       [35],\n",
              "       [ 1],\n",
              "       [ 1],\n",
              "       [35],\n",
              "       [ 1],\n",
              "       [ 1],\n",
              "       [ 1],\n",
              "       [ 1],\n",
              "       [ 1],\n",
              "       [35],\n",
              "       [35],\n",
              "       [35],\n",
              "       [35],\n",
              "       [ 1],\n",
              "       [ 1],\n",
              "       [35],\n",
              "       [35],\n",
              "       [ 1],\n",
              "       [35],\n",
              "       [35],\n",
              "       [ 1],\n",
              "       [ 1],\n",
              "       [35],\n",
              "       [35],\n",
              "       [ 1],\n",
              "       [ 1],\n",
              "       [35],\n",
              "       [ 1],\n",
              "       [ 1],\n",
              "       [ 1],\n",
              "       [ 1],\n",
              "       [35],\n",
              "       [ 1],\n",
              "       [ 1],\n",
              "       [ 1],\n",
              "       [35],\n",
              "       [ 1],\n",
              "       [ 1],\n",
              "       [35],\n",
              "       [35],\n",
              "       [35],\n",
              "       [ 1],\n",
              "       [35],\n",
              "       [ 1],\n",
              "       [ 1],\n",
              "       [35],\n",
              "       [ 1],\n",
              "       [35],\n",
              "       [35],\n",
              "       [ 1],\n",
              "       [ 1],\n",
              "       [ 1],\n",
              "       [ 1],\n",
              "       [ 1],\n",
              "       [ 1],\n",
              "       [ 1],\n",
              "       [35],\n",
              "       [35],\n",
              "       [35],\n",
              "       [35],\n",
              "       [35],\n",
              "       [35],\n",
              "       [35],\n",
              "       [ 1],\n",
              "       [35],\n",
              "       [35],\n",
              "       [35],\n",
              "       [ 1],\n",
              "       [ 1],\n",
              "       [35],\n",
              "       [35],\n",
              "       [ 1],\n",
              "       [ 1],\n",
              "       [35],\n",
              "       [ 1],\n",
              "       [ 1],\n",
              "       [35],\n",
              "       [ 1],\n",
              "       [35],\n",
              "       [35],\n",
              "       [ 1],\n",
              "       [35],\n",
              "       [ 1],\n",
              "       [35],\n",
              "       [ 1],\n",
              "       [ 1],\n",
              "       [ 1],\n",
              "       [35],\n",
              "       [ 1],\n",
              "       [ 1],\n",
              "       [ 1],\n",
              "       [35],\n",
              "       [35],\n",
              "       [ 1],\n",
              "       [35],\n",
              "       [35],\n",
              "       [35],\n",
              "       [35],\n",
              "       [35],\n",
              "       [35],\n",
              "       [ 1],\n",
              "       [35],\n",
              "       [ 1],\n",
              "       [35],\n",
              "       [ 1],\n",
              "       [ 1],\n",
              "       [ 1],\n",
              "       [ 1],\n",
              "       [ 1],\n",
              "       [35],\n",
              "       [ 1],\n",
              "       [35],\n",
              "       [ 1],\n",
              "       [ 1],\n",
              "       [ 1],\n",
              "       [35],\n",
              "       [ 1],\n",
              "       [ 1],\n",
              "       [35],\n",
              "       [ 1],\n",
              "       [ 1],\n",
              "       [35],\n",
              "       [ 1],\n",
              "       [35],\n",
              "       [35],\n",
              "       [35],\n",
              "       [35],\n",
              "       [ 1],\n",
              "       [35],\n",
              "       [ 1],\n",
              "       [ 1],\n",
              "       [35],\n",
              "       [35],\n",
              "       [35],\n",
              "       [35],\n",
              "       [35],\n",
              "       [ 1],\n",
              "       [ 1],\n",
              "       [ 1],\n",
              "       [35],\n",
              "       [ 1],\n",
              "       [ 1],\n",
              "       [ 1],\n",
              "       [ 1],\n",
              "       [35],\n",
              "       [35],\n",
              "       [35],\n",
              "       [ 1],\n",
              "       [35],\n",
              "       [35],\n",
              "       [ 1],\n",
              "       [35],\n",
              "       [35],\n",
              "       [35],\n",
              "       [ 1],\n",
              "       [35],\n",
              "       [35],\n",
              "       [35],\n",
              "       [ 1],\n",
              "       [ 1],\n",
              "       [35],\n",
              "       [35],\n",
              "       [35],\n",
              "       [35],\n",
              "       [35],\n",
              "       [ 1],\n",
              "       [35],\n",
              "       [35],\n",
              "       [35],\n",
              "       [ 1],\n",
              "       [ 1],\n",
              "       [ 1],\n",
              "       [35],\n",
              "       [ 1],\n",
              "       [35],\n",
              "       [ 1],\n",
              "       [35],\n",
              "       [35],\n",
              "       [ 1],\n",
              "       [ 1],\n",
              "       [ 1],\n",
              "       [ 1],\n",
              "       [35],\n",
              "       [ 1],\n",
              "       [ 1],\n",
              "       [35],\n",
              "       [ 1],\n",
              "       [35],\n",
              "       [ 1],\n",
              "       [35],\n",
              "       [35],\n",
              "       [35],\n",
              "       [35],\n",
              "       [35],\n",
              "       [ 1],\n",
              "       [35],\n",
              "       [ 1],\n",
              "       [35],\n",
              "       [35],\n",
              "       [ 1],\n",
              "       [35],\n",
              "       [35],\n",
              "       [35],\n",
              "       [35],\n",
              "       [ 1],\n",
              "       [ 1],\n",
              "       [35],\n",
              "       [35],\n",
              "       [35],\n",
              "       [35],\n",
              "       [ 1],\n",
              "       [35],\n",
              "       [35],\n",
              "       [ 1],\n",
              "       [ 1],\n",
              "       [35],\n",
              "       [ 1],\n",
              "       [ 1],\n",
              "       [ 1],\n",
              "       [ 1],\n",
              "       [ 1],\n",
              "       [ 1],\n",
              "       [ 1],\n",
              "       [35],\n",
              "       [35],\n",
              "       [ 1],\n",
              "       [35],\n",
              "       [ 1],\n",
              "       [ 1],\n",
              "       [ 1],\n",
              "       [35],\n",
              "       [ 1],\n",
              "       [ 1],\n",
              "       [ 1],\n",
              "       [35],\n",
              "       [ 1],\n",
              "       [35],\n",
              "       [ 1],\n",
              "       [ 1],\n",
              "       [ 1],\n",
              "       [ 1],\n",
              "       [ 1],\n",
              "       [35],\n",
              "       [35],\n",
              "       [35],\n",
              "       [ 1],\n",
              "       [ 1],\n",
              "       [ 1],\n",
              "       [35],\n",
              "       [35],\n",
              "       [ 1],\n",
              "       [35],\n",
              "       [ 1],\n",
              "       [ 1],\n",
              "       [35],\n",
              "       [35],\n",
              "       [35],\n",
              "       [35],\n",
              "       [ 1],\n",
              "       [35],\n",
              "       [ 1],\n",
              "       [35],\n",
              "       [ 1],\n",
              "       [35],\n",
              "       [35],\n",
              "       [35],\n",
              "       [ 1],\n",
              "       [35],\n",
              "       [35],\n",
              "       [35],\n",
              "       [35],\n",
              "       [ 1],\n",
              "       [ 1],\n",
              "       [ 1],\n",
              "       [ 1],\n",
              "       [35],\n",
              "       [35],\n",
              "       [35],\n",
              "       [ 1],\n",
              "       [ 1],\n",
              "       [35],\n",
              "       [ 1],\n",
              "       [35],\n",
              "       [35],\n",
              "       [35],\n",
              "       [35],\n",
              "       [ 1],\n",
              "       [ 1],\n",
              "       [35],\n",
              "       [ 1],\n",
              "       [ 1],\n",
              "       [ 1],\n",
              "       [ 1],\n",
              "       [ 1],\n",
              "       [35],\n",
              "       [ 1],\n",
              "       [35],\n",
              "       [ 1],\n",
              "       [ 1],\n",
              "       [35],\n",
              "       [35],\n",
              "       [ 1],\n",
              "       [35],\n",
              "       [ 1],\n",
              "       [35],\n",
              "       [35],\n",
              "       [35],\n",
              "       [ 1],\n",
              "       [ 1],\n",
              "       [35],\n",
              "       [35],\n",
              "       [35],\n",
              "       [ 1],\n",
              "       [35],\n",
              "       [ 1],\n",
              "       [35],\n",
              "       [35],\n",
              "       [ 1],\n",
              "       [ 1],\n",
              "       [ 1],\n",
              "       [35],\n",
              "       [35],\n",
              "       [35],\n",
              "       [35],\n",
              "       [35],\n",
              "       [35],\n",
              "       [35],\n",
              "       [35],\n",
              "       [ 1],\n",
              "       [ 1],\n",
              "       [ 1],\n",
              "       [ 1],\n",
              "       [ 1],\n",
              "       [35],\n",
              "       [35],\n",
              "       [ 1],\n",
              "       [ 1],\n",
              "       [ 1],\n",
              "       [ 1],\n",
              "       [ 1],\n",
              "       [35],\n",
              "       [35],\n",
              "       [ 1],\n",
              "       [ 1],\n",
              "       [35],\n",
              "       [35],\n",
              "       [ 1],\n",
              "       [ 1],\n",
              "       [35],\n",
              "       [ 1],\n",
              "       [ 1],\n",
              "       [ 1],\n",
              "       [35],\n",
              "       [35],\n",
              "       [ 1],\n",
              "       [35],\n",
              "       [ 1],\n",
              "       [ 1],\n",
              "       [ 1],\n",
              "       [35],\n",
              "       [ 1],\n",
              "       [35],\n",
              "       [ 1],\n",
              "       [ 1],\n",
              "       [ 1],\n",
              "       [ 1],\n",
              "       [35],\n",
              "       [ 1],\n",
              "       [35],\n",
              "       [35],\n",
              "       [35],\n",
              "       [35],\n",
              "       [35],\n",
              "       [35],\n",
              "       [ 1],\n",
              "       [35],\n",
              "       [ 1],\n",
              "       [35],\n",
              "       [35],\n",
              "       [35],\n",
              "       [ 1],\n",
              "       [35],\n",
              "       [ 1],\n",
              "       [35],\n",
              "       [35],\n",
              "       [35],\n",
              "       [35],\n",
              "       [35],\n",
              "       [35],\n",
              "       [35],\n",
              "       [35],\n",
              "       [35],\n",
              "       [ 1],\n",
              "       [35],\n",
              "       [ 1],\n",
              "       [35],\n",
              "       [ 1],\n",
              "       [ 1],\n",
              "       [ 1],\n",
              "       [ 1],\n",
              "       [ 1],\n",
              "       [ 1],\n",
              "       [ 1],\n",
              "       [35],\n",
              "       [ 1],\n",
              "       [ 1],\n",
              "       [35],\n",
              "       [ 1],\n",
              "       [35],\n",
              "       [35],\n",
              "       [35],\n",
              "       [35],\n",
              "       [ 1],\n",
              "       [35],\n",
              "       [35],\n",
              "       [ 1],\n",
              "       [35],\n",
              "       [ 1],\n",
              "       [ 1],\n",
              "       [35],\n",
              "       [35],\n",
              "       [ 1],\n",
              "       [ 1],\n",
              "       [35],\n",
              "       [ 1],\n",
              "       [ 1],\n",
              "       [ 1],\n",
              "       [35],\n",
              "       [35],\n",
              "       [ 1],\n",
              "       [ 1],\n",
              "       [ 1],\n",
              "       [35],\n",
              "       [35],\n",
              "       [ 1],\n",
              "       [ 1],\n",
              "       [ 1],\n",
              "       [ 1],\n",
              "       [35],\n",
              "       [ 1],\n",
              "       [35],\n",
              "       [35],\n",
              "       [35],\n",
              "       [ 1],\n",
              "       [35],\n",
              "       [35],\n",
              "       [35],\n",
              "       [ 1],\n",
              "       [ 1],\n",
              "       [ 1],\n",
              "       [35],\n",
              "       [ 1],\n",
              "       [ 1],\n",
              "       [ 1],\n",
              "       [35],\n",
              "       [35],\n",
              "       [ 1],\n",
              "       [35],\n",
              "       [ 1],\n",
              "       [35],\n",
              "       [35],\n",
              "       [35],\n",
              "       [35],\n",
              "       [ 1],\n",
              "       [ 1],\n",
              "       [ 1],\n",
              "       [35],\n",
              "       [ 1],\n",
              "       [ 1],\n",
              "       [35],\n",
              "       [35],\n",
              "       [35],\n",
              "       [35],\n",
              "       [35],\n",
              "       [ 1],\n",
              "       [35],\n",
              "       [35],\n",
              "       [35],\n",
              "       [35],\n",
              "       [ 1],\n",
              "       [ 1],\n",
              "       [ 1],\n",
              "       [35],\n",
              "       [35],\n",
              "       [35],\n",
              "       [ 1],\n",
              "       [ 1],\n",
              "       [ 1],\n",
              "       [35],\n",
              "       [35],\n",
              "       [ 1],\n",
              "       [35],\n",
              "       [ 1],\n",
              "       [35],\n",
              "       [ 1],\n",
              "       [ 1],\n",
              "       [ 1],\n",
              "       [35],\n",
              "       [ 1],\n",
              "       [ 1],\n",
              "       [ 1],\n",
              "       [ 1],\n",
              "       [ 1],\n",
              "       [ 1],\n",
              "       [35],\n",
              "       [35],\n",
              "       [ 1],\n",
              "       [35],\n",
              "       [ 1],\n",
              "       [35],\n",
              "       [35],\n",
              "       [35],\n",
              "       [35],\n",
              "       [ 1],\n",
              "       [ 1],\n",
              "       [ 1],\n",
              "       [35],\n",
              "       [35],\n",
              "       [35],\n",
              "       [ 1],\n",
              "       [35],\n",
              "       [ 1],\n",
              "       [35],\n",
              "       [35],\n",
              "       [ 1],\n",
              "       [35],\n",
              "       [35],\n",
              "       [ 1],\n",
              "       [ 1],\n",
              "       [35],\n",
              "       [35],\n",
              "       [ 1],\n",
              "       [ 1],\n",
              "       [35],\n",
              "       [ 1],\n",
              "       [ 1],\n",
              "       [ 1],\n",
              "       [35],\n",
              "       [ 1],\n",
              "       [ 1],\n",
              "       [ 1],\n",
              "       [ 1],\n",
              "       [ 1],\n",
              "       [35],\n",
              "       [ 1],\n",
              "       [ 1],\n",
              "       [ 1],\n",
              "       [ 1],\n",
              "       [35],\n",
              "       [ 1],\n",
              "       [ 1],\n",
              "       [35],\n",
              "       [35],\n",
              "       [ 1],\n",
              "       [ 1],\n",
              "       [ 1],\n",
              "       [35],\n",
              "       [35],\n",
              "       [35],\n",
              "       [ 1],\n",
              "       [ 1],\n",
              "       [35],\n",
              "       [35],\n",
              "       [35],\n",
              "       [35],\n",
              "       [ 1],\n",
              "       [ 1],\n",
              "       [ 1],\n",
              "       [ 1],\n",
              "       [ 1],\n",
              "       [ 1],\n",
              "       [ 1],\n",
              "       [35],\n",
              "       [35],\n",
              "       [35],\n",
              "       [35],\n",
              "       [35],\n",
              "       [ 1],\n",
              "       [ 1],\n",
              "       [35],\n",
              "       [35],\n",
              "       [35],\n",
              "       [35],\n",
              "       [ 1],\n",
              "       [ 1],\n",
              "       [35],\n",
              "       [35],\n",
              "       [35],\n",
              "       [ 1],\n",
              "       [35],\n",
              "       [ 1],\n",
              "       [35],\n",
              "       [ 1],\n",
              "       [35],\n",
              "       [35],\n",
              "       [ 1],\n",
              "       [ 1],\n",
              "       [35],\n",
              "       [ 1],\n",
              "       [ 1],\n",
              "       [ 1],\n",
              "       [ 1],\n",
              "       [ 1],\n",
              "       [35],\n",
              "       [ 1],\n",
              "       [35],\n",
              "       [ 1],\n",
              "       [35],\n",
              "       [ 1],\n",
              "       [35],\n",
              "       [ 1],\n",
              "       [ 1],\n",
              "       [35],\n",
              "       [35],\n",
              "       [35],\n",
              "       [ 1],\n",
              "       [35],\n",
              "       [35],\n",
              "       [35],\n",
              "       [ 1],\n",
              "       [35],\n",
              "       [35],\n",
              "       [35],\n",
              "       [35],\n",
              "       [ 1],\n",
              "       [35],\n",
              "       [ 1],\n",
              "       [35],\n",
              "       [35],\n",
              "       [35],\n",
              "       [35],\n",
              "       [ 1],\n",
              "       [ 1],\n",
              "       [35],\n",
              "       [35],\n",
              "       [35],\n",
              "       [35],\n",
              "       [35],\n",
              "       [ 1],\n",
              "       [ 1],\n",
              "       [35],\n",
              "       [ 1],\n",
              "       [35],\n",
              "       [ 1],\n",
              "       [35],\n",
              "       [ 1],\n",
              "       [35],\n",
              "       [ 1],\n",
              "       [35],\n",
              "       [35],\n",
              "       [ 1],\n",
              "       [ 1],\n",
              "       [35],\n",
              "       [ 1],\n",
              "       [ 1],\n",
              "       [ 1],\n",
              "       [ 1],\n",
              "       [35],\n",
              "       [35]])"
            ]
          },
          "metadata": {
            "tags": []
          },
          "execution_count": 109
        }
      ]
    },
    {
      "cell_type": "code",
      "metadata": {
        "id": "ca9q6kpVa5sj",
        "colab_type": "code",
        "outputId": "3e3aadff-07de-40f1-f563-1904ea25b5c2",
        "colab": {
          "base_uri": "https://localhost:8080/",
          "height": 136
        }
      },
      "source": [
        "answers_test"
      ],
      "execution_count": 0,
      "outputs": [
        {
          "output_type": "execute_result",
          "data": {
            "text/plain": [
              "array([[0., 0., 1., ..., 0., 0., 0.],\n",
              "       [0., 0., 1., ..., 0., 0., 0.],\n",
              "       [0., 0., 0., ..., 0., 0., 0.],\n",
              "       ...,\n",
              "       [0., 0., 1., ..., 0., 0., 0.],\n",
              "       [0., 0., 0., ..., 0., 0., 0.],\n",
              "       [0., 0., 0., ..., 0., 0., 0.]])"
            ]
          },
          "metadata": {
            "tags": []
          },
          "execution_count": 42
        }
      ]
    },
    {
      "cell_type": "code",
      "metadata": {
        "id": "e0Zzvr-Ba5sm",
        "colab_type": "code",
        "outputId": "d9e52375-01d4-4a78-93af-5f78db746262",
        "colab": {
          "base_uri": "https://localhost:8080/",
          "height": 85
        }
      },
      "source": [
        "sum(answers_test)"
      ],
      "execution_count": 0,
      "outputs": [
        {
          "output_type": "execute_result",
          "data": {
            "text/plain": [
              "array([  0.,   0., 503.,   0.,   0.,   0.,   0.,   0.,   0.,   0.,   0.,\n",
              "         0.,   0.,   0.,   0.,   0.,   0.,   0.,   0.,   0.,   0.,   0.,\n",
              "         0.,   0., 497.,   0.,   0.,   0.,   0.,   0.,   0.,   0.,   0.,\n",
              "         0.,   0.,   0.,   0.,   0.])"
            ]
          },
          "metadata": {
            "tags": []
          },
          "execution_count": 43
        }
      ]
    },
    {
      "cell_type": "code",
      "metadata": {
        "id": "8qGHhR2HLQL1",
        "colab_type": "code",
        "colab": {
          "base_uri": "https://localhost:8080/",
          "height": 36
        },
        "outputId": "32aacf6e-19b4-46a9-fdb4-6308c9eb9119"
      },
      "source": [
        "tokenizer.word_index['yes']\n"
      ],
      "execution_count": 107,
      "outputs": [
        {
          "output_type": "execute_result",
          "data": {
            "text/plain": [
              "35"
            ]
          },
          "metadata": {
            "tags": []
          },
          "execution_count": 107
        }
      ]
    },
    {
      "cell_type": "code",
      "metadata": {
        "id": "4cf-rfn1a5st",
        "colab_type": "code",
        "outputId": "3083bd03-df1e-48f2-ce48-9d383bcd045b",
        "colab": {
          "base_uri": "https://localhost:8080/",
          "height": 34
        }
      },
      "source": [
        "tokenizer.word_index['yes']"
      ],
      "execution_count": 0,
      "outputs": [
        {
          "output_type": "execute_result",
          "data": {
            "text/plain": [
              "24"
            ]
          },
          "metadata": {
            "tags": []
          },
          "execution_count": 44
        }
      ]
    },
    {
      "cell_type": "code",
      "metadata": {
        "id": "N4xMc1YtLR8G",
        "colab_type": "code",
        "colab": {
          "base_uri": "https://localhost:8080/",
          "height": 36
        },
        "outputId": "a724aad4-c78c-4f1f-b72e-a3860531fb3d"
      },
      "source": [
        "tokenizer.word_index['no']"
      ],
      "execution_count": 108,
      "outputs": [
        {
          "output_type": "execute_result",
          "data": {
            "text/plain": [
              "1"
            ]
          },
          "metadata": {
            "tags": []
          },
          "execution_count": 108
        }
      ]
    },
    {
      "cell_type": "code",
      "metadata": {
        "id": "Bediffima5sy",
        "colab_type": "code",
        "outputId": "ff73f609-a3f5-4b62-b3ea-4be180f02020",
        "colab": {
          "base_uri": "https://localhost:8080/",
          "height": 34
        }
      },
      "source": [
        "tokenizer.word_index['no']"
      ],
      "execution_count": 0,
      "outputs": [
        {
          "output_type": "execute_result",
          "data": {
            "text/plain": [
              "2"
            ]
          },
          "metadata": {
            "tags": []
          },
          "execution_count": 45
        }
      ]
    },
    {
      "cell_type": "markdown",
      "metadata": {
        "id": "vu6Xo-Noa5s5",
        "colab_type": "text"
      },
      "source": [
        "## Creating the Model"
      ]
    },
    {
      "cell_type": "code",
      "metadata": {
        "id": "wFESvEZsa5s8",
        "colab_type": "code",
        "colab": {}
      },
      "source": [
        "from keras.models import Sequential, Model\n",
        "from keras.layers.embeddings import Embedding\n",
        "from keras.layers import Input, Activation, Dense, Permute, Dropout\n",
        "from keras.layers import add, dot, concatenate\n",
        "from keras.layers import LSTM"
      ],
      "execution_count": 0,
      "outputs": []
    },
    {
      "cell_type": "markdown",
      "metadata": {
        "id": "6-YOF6oDa5tG",
        "colab_type": "text"
      },
      "source": [
        "### Placeholders for Inputs\n",
        "\n",
        "Recall we technically have two inputs, stories and questions. So we need to use placeholders. `Input()` is used to instantiate a Keras tensor.\n"
      ]
    },
    {
      "cell_type": "code",
      "metadata": {
        "id": "TqCPMwsla5tH",
        "colab_type": "code",
        "outputId": "fa35f698-ad11-4710-897d-cd5f3e5051d7",
        "colab": {
          "base_uri": "https://localhost:8080/",
          "height": 105
        }
      },
      "source": [
        "input_sequence = Input((max_story_len,))\n",
        "question = Input((max_question_len,))"
      ],
      "execution_count": 0,
      "outputs": [
        {
          "output_type": "stream",
          "text": [
            "WARNING:tensorflow:From /usr/local/lib/python3.6/dist-packages/keras/backend/tensorflow_backend.py:66: The name tf.get_default_graph is deprecated. Please use tf.compat.v1.get_default_graph instead.\n",
            "\n",
            "WARNING:tensorflow:From /usr/local/lib/python3.6/dist-packages/keras/backend/tensorflow_backend.py:541: The name tf.placeholder is deprecated. Please use tf.compat.v1.placeholder instead.\n",
            "\n"
          ],
          "name": "stdout"
        }
      ]
    },
    {
      "cell_type": "markdown",
      "metadata": {
        "collapsed": true,
        "id": "JOkE0wwga5tN",
        "colab_type": "text"
      },
      "source": [
        "### Building the Networks\n",
        "\n",
        "To understand why we chose this setup, make sure to read the paper we are using:\n",
        "\n",
        "* Sainbayar Sukhbaatar, Arthur Szlam, Jason Weston, Rob Fergus,\n",
        "  \"End-To-End Memory Networks\",\n",
        "  http://arxiv.org/abs/1503.08895"
      ]
    },
    {
      "cell_type": "markdown",
      "metadata": {
        "id": "7NJeRFIta5tP",
        "colab_type": "text"
      },
      "source": [
        "## Encoders\n",
        "\n",
        "The input to your neural network for an NLP task requires you to setup an Embedding layer which creates word embedding for you(aka word2vec).\n",
        "\n",
        "Also it would be a good idea to experiment with different hyperparameters like using/not using dropout layers, learning rate etc\n",
        "\n",
        "\n"
      ]
    },
    {
      "cell_type": "markdown",
      "metadata": {
        "id": "c_7fsR9rMFY0",
        "colab_type": "text"
      },
      "source": [
        "### Input Encoder m"
      ]
    },
    {
      "cell_type": "code",
      "metadata": {
        "id": "lIUWSinPa5tR",
        "colab_type": "code",
        "outputId": "fa79eb28-c4a4-4d16-e94c-7c3dbf5bae1e",
        "colab": {
          "base_uri": "https://localhost:8080/",
          "height": 156
        }
      },
      "source": [
        "# Input gets embedded to a sequence of vectors\n",
        "input_encoder_m = Sequential()\n",
        "input_encoder_m.add(Embedding(input_dim=vocab_size,output_dim=64))\n",
        "\n",
        "# Optional: Create any additional layers for neural network"
      ],
      "execution_count": 0,
      "outputs": [
        {
          "output_type": "stream",
          "text": [
            "WARNING:tensorflow:From /usr/local/lib/python3.6/dist-packages/keras/backend/tensorflow_backend.py:4432: The name tf.random_uniform is deprecated. Please use tf.random.uniform instead.\n",
            "\n",
            "WARNING:tensorflow:From /usr/local/lib/python3.6/dist-packages/keras/backend/tensorflow_backend.py:148: The name tf.placeholder_with_default is deprecated. Please use tf.compat.v1.placeholder_with_default instead.\n",
            "\n",
            "WARNING:tensorflow:From /usr/local/lib/python3.6/dist-packages/keras/backend/tensorflow_backend.py:3733: calling dropout (from tensorflow.python.ops.nn_ops) with keep_prob is deprecated and will be removed in a future version.\n",
            "Instructions for updating:\n",
            "Please use `rate` instead of `keep_prob`. Rate should be set to `rate = 1 - keep_prob`.\n"
          ],
          "name": "stdout"
        }
      ]
    },
    {
      "cell_type": "markdown",
      "metadata": {
        "id": "RQEqTIala5tW",
        "colab_type": "text"
      },
      "source": [
        "### Input Encoder c"
      ]
    },
    {
      "cell_type": "code",
      "metadata": {
        "id": "JF3erOIXa5tY",
        "colab_type": "code",
        "colab": {}
      },
      "source": [
        "# Embed the input into a sequence of vectors of size query_maxlen\n",
        "input_encoder_c = Sequential()\n",
        "input_encoder_c.add(Embedding(input_dim=vocab_size,output_dim=max_question_len))\n",
        "\n",
        "# Optional: Create any additional layers for neural network"
      ],
      "execution_count": 0,
      "outputs": []
    },
    {
      "cell_type": "markdown",
      "metadata": {
        "id": "ii7TEQLHa5ti",
        "colab_type": "text"
      },
      "source": [
        "### Question Encoder"
      ]
    },
    {
      "cell_type": "code",
      "metadata": {
        "id": "Qt9kKE3La5tj",
        "colab_type": "code",
        "colab": {}
      },
      "source": [
        "# embed the question into a sequence of vectors\n",
        "question_encoder = Sequential()\n",
        "question_encoder.add(Embedding(input_dim=vocab_size,\n",
        "                               output_dim=64,\n",
        "                               input_length=max_question_len))\n",
        "\n",
        "# Optional: Create any additional layers for neural network"
      ],
      "execution_count": 0,
      "outputs": []
    },
    {
      "cell_type": "markdown",
      "metadata": {
        "id": "x_I8ywjDa5to",
        "colab_type": "text"
      },
      "source": [
        "### Encode the Sequences"
      ]
    },
    {
      "cell_type": "code",
      "metadata": {
        "id": "ap2fFowPa5tp",
        "colab_type": "code",
        "colab": {}
      },
      "source": [
        "# TODO: Encode input sequence and questions (which are indices)\n",
        "# to sequences of dense vectors"
      ],
      "execution_count": 0,
      "outputs": []
    },
    {
      "cell_type": "markdown",
      "metadata": {
        "id": "YJgN7i1aa5tv",
        "colab_type": "text"
      },
      "source": [
        "##### Use dot product to compute the match between first input vector seq and the query"
      ]
    },
    {
      "cell_type": "code",
      "metadata": {
        "id": "f_W9OTBca5ty",
        "colab_type": "code",
        "colab": {}
      },
      "source": [
        "# shape: `(samples, story_maxlen, query_maxlen)`"
      ],
      "execution_count": 0,
      "outputs": []
    },
    {
      "cell_type": "markdown",
      "metadata": {
        "id": "bnQcWYIja5t2",
        "colab_type": "text"
      },
      "source": [
        "#### Add this match matrix with the second input vector sequence"
      ]
    },
    {
      "cell_type": "code",
      "metadata": {
        "id": "Qq6d15Yba5t3",
        "colab_type": "code",
        "colab": {}
      },
      "source": [
        "# Add the match matrix with the second input vector sequence"
      ],
      "execution_count": 0,
      "outputs": []
    },
    {
      "cell_type": "markdown",
      "metadata": {
        "id": "xqv0cWNBa5t9",
        "colab_type": "text"
      },
      "source": [
        "#### Concatenate"
      ]
    },
    {
      "cell_type": "code",
      "metadata": {
        "id": "5TfL3iy1a5t_",
        "colab_type": "code",
        "colab": {}
      },
      "source": [
        "# Concatenate the match matrix with the question vector sequence\n",
        "answer = concatenate([response, question_encoded])"
      ],
      "execution_count": 0,
      "outputs": []
    },
    {
      "cell_type": "code",
      "metadata": {
        "id": "Klww8nV0a5uG",
        "colab_type": "code",
        "outputId": "8be4f854-2d53-4f4f-ffc4-0e1e473dc02b",
        "colab": {
          "base_uri": "https://localhost:8080/",
          "height": 34
        }
      },
      "source": [
        ""
      ],
      "execution_count": 0,
      "outputs": [
        {
          "output_type": "execute_result",
          "data": {
            "text/plain": [
              "<tf.Tensor 'concatenate_1/concat:0' shape=(?, 6, 220) dtype=float32>"
            ]
          },
          "metadata": {
            "tags": []
          },
          "execution_count": 55
        }
      ]
    },
    {
      "cell_type": "code",
      "metadata": {
        "id": "cG7kVtSda5uJ",
        "colab_type": "code",
        "colab": {}
      },
      "source": [
        ""
      ],
      "execution_count": 0,
      "outputs": []
    },
    {
      "cell_type": "code",
      "metadata": {
        "id": "4_B3i2n_a5uO",
        "colab_type": "code",
        "colab": {}
      },
      "source": [
        "# Regularization with Dropout\n",
        "answer = Dropout(0.5)(answer)\n",
        "answer = Dense(vocab_size)(answer)  # (samples, vocab_size)"
      ],
      "execution_count": 0,
      "outputs": []
    },
    {
      "cell_type": "code",
      "metadata": {
        "id": "TboZRHW3a5uU",
        "colab_type": "code",
        "colab": {}
      },
      "source": [
        "# TODO :Output a probability distribution over the vocabulary"
      ],
      "execution_count": 0,
      "outputs": []
    },
    {
      "cell_type": "code",
      "metadata": {
        "id": "UywAOEZsa5uW",
        "colab_type": "code",
        "colab": {}
      },
      "source": [
        "model.summary()"
      ],
      "execution_count": 0,
      "outputs": []
    },
    {
      "cell_type": "code",
      "metadata": {
        "id": "vrpXLZFZa5ug",
        "colab_type": "code",
        "colab": {}
      },
      "source": [
        "# TODO: Train Model"
      ],
      "execution_count": 0,
      "outputs": []
    },
    {
      "cell_type": "markdown",
      "metadata": {
        "id": "z3CRWdPHa5uj",
        "colab_type": "text"
      },
      "source": [
        "### Saving the Model"
      ]
    },
    {
      "cell_type": "code",
      "metadata": {
        "id": "TnL6K44la5uk",
        "colab_type": "code",
        "colab": {}
      },
      "source": [
        "filename = 'chatbot_120_epochs.h5'\n",
        "model.save(filename)"
      ],
      "execution_count": 0,
      "outputs": []
    },
    {
      "cell_type": "markdown",
      "metadata": {
        "id": "GgakiyWWa5up",
        "colab_type": "text"
      },
      "source": [
        "## Evaluating the Model\n",
        "\n",
        "### Plotting Out Training History"
      ]
    },
    {
      "cell_type": "code",
      "metadata": {
        "id": "sZSqC83Ca5uq",
        "colab_type": "code",
        "outputId": "c25e493e-66f0-45c9-f8b9-80723fd3ea8e",
        "colab": {
          "base_uri": "https://localhost:8080/",
          "height": 312
        }
      },
      "source": [
        "import matplotlib.pyplot as plt\n",
        "%matplotlib inline\n",
        "# Plot out training history here"
      ],
      "execution_count": 0,
      "outputs": [
        {
          "output_type": "stream",
          "text": [
            "dict_keys(['val_loss', 'val_acc', 'loss', 'acc'])\n"
          ],
          "name": "stdout"
        },
        {
          "output_type": "display_data",
          "data": {
            "image/png": "[encoded data removed]",
            "text/plain": [
              "<Figure size 432x288 with 1 Axes>"
            ]
          },
          "metadata": {
            "tags": []
          }
        }
      ]
    },
    {
      "cell_type": "markdown",
      "metadata": {
        "id": "tj239SG3a5uv",
        "colab_type": "text"
      },
      "source": [
        "### Evaluating on Given Test Set"
      ]
    },
    {
      "cell_type": "code",
      "metadata": {
        "id": "tG8ZLcDfa5uw",
        "colab_type": "code",
        "colab": {}
      },
      "source": [
        "model.load_weights(filename)\n",
        "\n",
        "# TODO: Predict with the model"
      ],
      "execution_count": 0,
      "outputs": []
    },
    {
      "cell_type": "code",
      "metadata": {
        "id": "SRvzvWb2a5uz",
        "colab_type": "code",
        "outputId": "b072d6cc-b829-40af-b248-6fd430e2f5c1",
        "colab": {
          "base_uri": "https://localhost:8080/",
          "height": 221
        }
      },
      "source": [
        "test_data[0][0]"
      ],
      "execution_count": 0,
      "outputs": [
        {
          "output_type": "execute_result",
          "data": {
            "text/plain": [
              "['Mary',\n",
              " 'got',\n",
              " 'the',\n",
              " 'milk',\n",
              " 'there',\n",
              " '.',\n",
              " 'John',\n",
              " 'moved',\n",
              " 'to',\n",
              " 'the',\n",
              " 'bedroom',\n",
              " '.']"
            ]
          },
          "metadata": {
            "tags": []
          },
          "execution_count": 64
        }
      ]
    },
    {
      "cell_type": "code",
      "metadata": {
        "id": "3LgMpkBja5u3",
        "colab_type": "code",
        "outputId": "d35fbf07-a0e7-4a6f-d3db-9f3a3a7a2f12",
        "colab": {
          "base_uri": "https://localhost:8080/",
          "height": 34
        }
      },
      "source": [
        "story =' '.join(word for word in test_data[0][0])\n",
        "print(story)"
      ],
      "execution_count": 0,
      "outputs": [
        {
          "output_type": "stream",
          "text": [
            "Mary got the milk there . John moved to the bedroom .\n"
          ],
          "name": "stdout"
        }
      ]
    },
    {
      "cell_type": "code",
      "metadata": {
        "id": "oxCoLIzIa5u6",
        "colab_type": "code",
        "outputId": "6cd2b94a-f9d5-4793-be63-5768fc250be7",
        "colab": {
          "base_uri": "https://localhost:8080/",
          "height": 34
        }
      },
      "source": [
        "query = ' '.join(word for word in test_data[0][1])\n",
        "print(query)"
      ],
      "execution_count": 0,
      "outputs": [
        {
          "output_type": "stream",
          "text": [
            "Is John in the kitchen ?\n"
          ],
          "name": "stdout"
        }
      ]
    },
    {
      "cell_type": "code",
      "metadata": {
        "id": "jTvBcWB7a5vD",
        "colab_type": "code",
        "outputId": "58f4e425-4912-423d-ed21-d9373e71272c",
        "colab": {
          "base_uri": "https://localhost:8080/",
          "height": 34
        }
      },
      "source": [
        "print(\"True Test Answer from Data is:\",test_data[0][2])"
      ],
      "execution_count": 0,
      "outputs": [
        {
          "output_type": "stream",
          "text": [
            "True Test Answer from Data is: no\n"
          ],
          "name": "stdout"
        }
      ]
    },
    {
      "cell_type": "code",
      "metadata": {
        "id": "c0_qxIIma5vF",
        "colab_type": "code",
        "outputId": "e85171e2-1259-4f9d-8c2a-e4446ab38558",
        "colab": {
          "base_uri": "https://localhost:8080/",
          "height": 51
        }
      },
      "source": [
        "#Generate prediction from model\n",
        "val_max = np.argmax(pred_results[0])\n",
        "\n",
        "for key, val in tokenizer.word_index.items():\n",
        "    if val == val_max:\n",
        "        k = key\n",
        "\n",
        "print(\"Predicted answer is: \", k)\n",
        "print(\"Probability of certainty was: \", pred_results[0][val_max])"
      ],
      "execution_count": 0,
      "outputs": [
        {
          "output_type": "stream",
          "text": [
            "Predicted answer is:  no\n",
            "Probability of certainty was:  1.0\n"
          ],
          "name": "stdout"
        }
      ]
    },
    {
      "cell_type": "markdown",
      "metadata": {
        "id": "SyI57TGTa5vH",
        "colab_type": "text"
      },
      "source": [
        "## Writing Your Own Stories and Questions\n",
        "\n",
        "Remember you can only use words from the existing vocab"
      ]
    },
    {
      "cell_type": "code",
      "metadata": {
        "id": "x3oQ622ea5vH",
        "colab_type": "code",
        "outputId": "ab6fd300-6e5e-405f-bf1a-c659859ba966",
        "colab": {
          "base_uri": "https://localhost:8080/",
          "height": 646
        }
      },
      "source": [
        "vocab"
      ],
      "execution_count": 0,
      "outputs": [
        {
          "output_type": "execute_result",
          "data": {
            "text/plain": [
              "{'.',\n",
              " '?',\n",
              " 'Daniel',\n",
              " 'Is',\n",
              " 'John',\n",
              " 'Mary',\n",
              " 'Sandra',\n",
              " 'apple',\n",
              " 'back',\n",
              " 'bathroom',\n",
              " 'bedroom',\n",
              " 'discarded',\n",
              " 'down',\n",
              " 'dropped',\n",
              " 'football',\n",
              " 'garden',\n",
              " 'got',\n",
              " 'grabbed',\n",
              " 'hallway',\n",
              " 'in',\n",
              " 'journeyed',\n",
              " 'kitchen',\n",
              " 'left',\n",
              " 'milk',\n",
              " 'moved',\n",
              " 'no',\n",
              " 'office',\n",
              " 'picked',\n",
              " 'put',\n",
              " 'the',\n",
              " 'there',\n",
              " 'to',\n",
              " 'took',\n",
              " 'travelled',\n",
              " 'up',\n",
              " 'went',\n",
              " 'yes'}"
            ]
          },
          "metadata": {
            "tags": []
          },
          "execution_count": 69
        }
      ]
    },
    {
      "cell_type": "code",
      "metadata": {
        "id": "dX0qU6cZa5vL",
        "colab_type": "code",
        "outputId": "a7ed0cc0-c598-463c-c952-a3642782730c",
        "colab": {
          "base_uri": "https://localhost:8080/",
          "height": 238
        }
      },
      "source": [
        "# Note the whitespace of the periods\n",
        "my_story = \"John left the kitchen . Sandra dropped the football in the garden .\"\n",
        "my_story.split()"
      ],
      "execution_count": 0,
      "outputs": [
        {
          "output_type": "execute_result",
          "data": {
            "text/plain": [
              "['John',\n",
              " 'left',\n",
              " 'the',\n",
              " 'kitchen',\n",
              " '.',\n",
              " 'Sandra',\n",
              " 'dropped',\n",
              " 'the',\n",
              " 'football',\n",
              " 'in',\n",
              " 'the',\n",
              " 'garden',\n",
              " '.']"
            ]
          },
          "metadata": {
            "tags": []
          },
          "execution_count": 70
        }
      ]
    },
    {
      "cell_type": "code",
      "metadata": {
        "id": "C4Lnyvbma5vO",
        "colab_type": "code",
        "colab": {}
      },
      "source": [
        "my_question = \"Is the football in the garden ?\""
      ],
      "execution_count": 0,
      "outputs": []
    },
    {
      "cell_type": "code",
      "metadata": {
        "id": "AORXcLrta5vQ",
        "colab_type": "code",
        "outputId": "ebc98349-6d5c-40b2-b84e-df7e559b80c1",
        "colab": {
          "base_uri": "https://localhost:8080/",
          "height": 34
        }
      },
      "source": [
        "my_question.split()"
      ],
      "execution_count": 0,
      "outputs": [
        {
          "output_type": "execute_result",
          "data": {
            "text/plain": [
              "['Is', 'the', 'football', 'in', 'the', 'garden', '?']"
            ]
          },
          "metadata": {
            "tags": []
          },
          "execution_count": 72
        }
      ]
    },
    {
      "cell_type": "code",
      "metadata": {
        "id": "mI7v0oHna5vS",
        "colab_type": "code",
        "colab": {}
      },
      "source": [
        "mydata = [(my_story.split(),my_question.split(),'yes')]"
      ],
      "execution_count": 0,
      "outputs": []
    },
    {
      "cell_type": "code",
      "metadata": {
        "id": "eWuzBxsUa5vU",
        "colab_type": "code",
        "colab": {}
      },
      "source": [
        "my_story,my_ques,my_ans = vectorize_stories(mydata)"
      ],
      "execution_count": 0,
      "outputs": []
    },
    {
      "cell_type": "code",
      "metadata": {
        "id": "-BX98BWha5vX",
        "colab_type": "code",
        "colab": {}
      },
      "source": [
        "pred_results = model.predict(([ my_story, my_ques]))"
      ],
      "execution_count": 0,
      "outputs": []
    },
    {
      "cell_type": "code",
      "metadata": {
        "id": "erFlHtPba5va",
        "colab_type": "code",
        "outputId": "28319f97-81c0-409d-ec53-1f11ff775992",
        "colab": {
          "base_uri": "https://localhost:8080/",
          "height": 51
        }
      },
      "source": [
        "#Generate prediction from model\n",
        "val_max = np.argmax(pred_results[0])\n",
        "\n",
        "for key, val in tokenizer.word_index.items():\n",
        "    if val == val_max:\n",
        "        k = key\n",
        "\n",
        "print(\"Predicted answer is: \", k)\n",
        "print(\"Probability of certainty was: \", pred_results[0][val_max])"
      ],
      "execution_count": 0,
      "outputs": [
        {
          "output_type": "stream",
          "text": [
            "Predicted answer is:  yes\n",
            "Probability of certainty was:  0.9938636\n"
          ],
          "name": "stdout"
        }
      ]
    }
  ]
}