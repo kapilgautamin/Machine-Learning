{
  "nbformat": 4,
  "nbformat_minor": 0,
  "metadata": {
    "colab": {
      "name": "Basics of Tensorflow",
      "provenance": [],
      "include_colab_link": true
    },
    "kernelspec": {
      "name": "python3",
      "display_name": "Python 3"
    },
    "accelerator": "GPU"
  },
  "cells": [
    {
      "cell_type": "markdown",
      "metadata": {
        "id": "view-in-github",
        "colab_type": "text"
      },
      "source": [
        "<a href=\"https://colab.research.google.com/github/kapilgautamin/Machine-Learning-/blob/master/Basics_of_Tensorflow.ipynb\" target=\"_parent\"><img src=\"https://colab.research.google.com/assets/colab-badge.svg\" alt=\"Open In Colab\"/></a>"
      ]
    },
    {
      "cell_type": "code",
      "metadata": {
        "id": "i6EsDVF2QXs1",
        "colab_type": "code",
        "outputId": "677da548-53b8-4288-b1b9-88a47f96b637",
        "colab": {
          "base_uri": "https://localhost:8080/",
          "height": 65
        }
      },
      "source": [
        "import tensorflow as tf\n",
        "import numpy as np"
      ],
      "execution_count": 0,
      "outputs": [
        {
          "output_type": "display_data",
          "data": {
            "text/html": [
              "<p style=\"color: red;\">\n",
              "The default version of TensorFlow in Colab will soon switch to TensorFlow 2.x.<br>\n",
              "We recommend you <a href=\"https://www.tensorflow.org/guide/migrate\" target=\"_blank\">upgrade</a> now \n",
              "or ensure your notebook will continue to use TensorFlow 1.x via the <code>%tensorflow_version 1.x</code> magic:\n",
              "<a href=\"https://colab.research.google.com/notebooks/tensorflow_version.ipynb\" target=\"_blank\">more info</a>.</p>\n"
            ],
            "text/plain": [
              "<IPython.core.display.HTML object>"
            ]
          },
          "metadata": {
            "tags": []
          }
        }
      ]
    },
    {
      "cell_type": "code",
      "metadata": {
        "id": "yr4OxuLYQo0f",
        "colab_type": "code",
        "outputId": "cebc40e6-06f1-43fd-edc5-c1346ef8f5e5",
        "colab": {
          "base_uri": "https://localhost:8080/",
          "height": 54
        }
      },
      "source": [
        "hello = tf.constant(\"Hello world\")\n",
        "print(hello)\n",
        "\n",
        "sess = tf.Session()\n",
        "print(sess.run(hello))"
      ],
      "execution_count": 0,
      "outputs": [
        {
          "output_type": "stream",
          "text": [
            "Tensor(\"Const:0\", shape=(), dtype=string)\n",
            "b'Hello world'\n"
          ],
          "name": "stdout"
        }
      ]
    },
    {
      "cell_type": "markdown",
      "metadata": {
        "id": "e3uwncUxUuRV",
        "colab_type": "text"
      },
      "source": [
        "#Tensor\n",
        "A tensor is basically based upon numpy arrays and it has the following elements:\n",
        "1. Shape - mXn\n",
        "2. Rank - Dimensions of array\n",
        "\n",
        "What's a Tensor - https://www.youtube.com/watch?v=f5liqUk0ZTw\n",
        "\n",
        "Tensor components -> (Number of dimensions)^ (Rank)\n",
        "Example for 3d sytsem\n",
        "\n",
        "1d - scalar - 3^0 - 1 componenent\n",
        "\n",
        "2d plane - vector plane - 3^1 - 3 componenents\n",
        "\n",
        "3d - tensors in 3d - 3^2 - 9 componenents\n",
        "\n",
        "4d - 3^3 - 27 components\n",
        "\n",
        "A tensor is unique since it is represented in basis vectors which can then be transformed to any other basis along with those tensors."
      ]
    },
    {
      "cell_type": "code",
      "metadata": {
        "id": "_qmjFfAoS5q4",
        "colab_type": "code",
        "outputId": "46a1a421-1933-4231-e1f5-0ad87e53fa48",
        "colab": {
          "base_uri": "https://localhost:8080/",
          "height": 35
        }
      },
      "source": [
        "num_tensor = tf.constant(3)\n",
        "num_tensor"
      ],
      "execution_count": 0,
      "outputs": [
        {
          "output_type": "execute_result",
          "data": {
            "text/plain": [
              "<tf.Tensor 'Const_3:0' shape=() dtype=int32>"
            ]
          },
          "metadata": {
            "tags": []
          },
          "execution_count": 5
        }
      ]
    },
    {
      "cell_type": "code",
      "metadata": {
        "id": "TXFwpZFMTx8E",
        "colab_type": "code",
        "outputId": "77940817-b1b9-4b58-ba24-1afa2d55baa6",
        "colab": {
          "base_uri": "https://localhost:8080/",
          "height": 35
        }
      },
      "source": [
        "array_tensor = tf.constant(np.array(np.arange(5)))\n",
        "array_tensor"
      ],
      "execution_count": 0,
      "outputs": [
        {
          "output_type": "execute_result",
          "data": {
            "text/plain": [
              "<tf.Tensor 'Const_4:0' shape=(5,) dtype=int64>"
            ]
          },
          "metadata": {
            "tags": []
          },
          "execution_count": 7
        }
      ]
    },
    {
      "cell_type": "code",
      "metadata": {
        "id": "1hzSCEgOUFQT",
        "colab_type": "code",
        "outputId": "5cc5f752-bfce-47b7-c2e1-2538d3d1babb",
        "colab": {
          "base_uri": "https://localhost:8080/",
          "height": 35
        }
      },
      "source": [
        "array_2d = np.array(np.arange(10)).reshape(5,2)\n",
        "array2d_tensor = tf.constant(array_2d)\n",
        "array2d_tensor"
      ],
      "execution_count": 0,
      "outputs": [
        {
          "output_type": "execute_result",
          "data": {
            "text/plain": [
              "<tf.Tensor 'Const_5:0' shape=(5, 2) dtype=int64>"
            ]
          },
          "metadata": {
            "tags": []
          },
          "execution_count": 10
        }
      ]
    },
    {
      "cell_type": "markdown",
      "metadata": {
        "id": "-P5GXzN_VJOg",
        "colab_type": "text"
      },
      "source": [
        "#Core sections of Tensorflow\n",
        "1. Building computational graphs (tf.Graphs)\n",
        "2. Running computational graphs (tf.Session)"
      ]
    },
    {
      "cell_type": "code",
      "metadata": {
        "id": "ulmxJqyjUSxr",
        "colab_type": "code",
        "outputId": "464b98c1-5c0f-4ca4-e1fc-86819d303ba7",
        "colab": {
          "base_uri": "https://localhost:8080/",
          "height": 72
        }
      },
      "source": [
        "a = tf.constant(np.array([3,2,4]))\n",
        "b = tf.constant(np.array([1,4,6]))\n",
        "print(a)\n",
        "print(b)\n",
        "total = a+b\n",
        "print(total)"
      ],
      "execution_count": 0,
      "outputs": [
        {
          "output_type": "stream",
          "text": [
            "Tensor(\"Const_14:0\", shape=(3,), dtype=int64)\n",
            "Tensor(\"Const_15:0\", shape=(3,), dtype=int64)\n",
            "Tensor(\"add:0\", shape=(3,), dtype=int64)\n"
          ],
          "name": "stdout"
        }
      ]
    },
    {
      "cell_type": "code",
      "metadata": {
        "id": "rhe6QpqlV-HL",
        "colab_type": "code",
        "outputId": "c1400f83-189c-44c9-c0f1-34cce43f7646",
        "colab": {
          "base_uri": "https://localhost:8080/",
          "height": 191
        }
      },
      "source": [
        "sess = tf.Session()\n",
        "sess.run(total)"
      ],
      "execution_count": 0,
      "outputs": [
        {
          "output_type": "error",
          "ename": "NameError",
          "evalue": "ignored",
          "traceback": [
            "\u001b[0;31m---------------------------------------------------------------------------\u001b[0m",
            "\u001b[0;31mNameError\u001b[0m                                 Traceback (most recent call last)",
            "\u001b[0;32m<ipython-input-9-772130c518d2>\u001b[0m in \u001b[0;36m<module>\u001b[0;34m()\u001b[0m\n\u001b[1;32m      1\u001b[0m \u001b[0msess\u001b[0m \u001b[0;34m=\u001b[0m \u001b[0mtf\u001b[0m\u001b[0;34m.\u001b[0m\u001b[0mSession\u001b[0m\u001b[0;34m(\u001b[0m\u001b[0;34m)\u001b[0m\u001b[0;34m\u001b[0m\u001b[0;34m\u001b[0m\u001b[0m\n\u001b[0;32m----> 2\u001b[0;31m \u001b[0msess\u001b[0m\u001b[0;34m.\u001b[0m\u001b[0mrun\u001b[0m\u001b[0;34m(\u001b[0m\u001b[0mtotal\u001b[0m\u001b[0;34m)\u001b[0m\u001b[0;34m\u001b[0m\u001b[0;34m\u001b[0m\u001b[0m\n\u001b[0m",
            "\u001b[0;31mNameError\u001b[0m: name 'total' is not defined"
          ]
        }
      ]
    },
    {
      "cell_type": "markdown",
      "metadata": {
        "id": "6RffBI1qWV3g",
        "colab_type": "text"
      },
      "source": [
        "#Placeholder\n",
        "tf.constant will not be helpful in ML, since we need to input dynamic training data.\n",
        "So for that purpose we use tf.placeholders where we can provide a value later, like a function argument"
      ]
    },
    {
      "cell_type": "code",
      "metadata": {
        "id": "P6Cj5-4lWKWz",
        "colab_type": "code",
        "outputId": "68f78eaa-d48e-4f14-e0d9-56e538d9d512",
        "colab": {
          "base_uri": "https://localhost:8080/",
          "height": 54
        }
      },
      "source": [
        "x = tf.placeholder(tf.float32)\n",
        "y = tf.placeholder(tf.float32)\n",
        "\n",
        "#To get any output, we need a session, here we already initialized 'sess' as our tf.Session\n",
        "#For the placeholder to get the values, the session run requires a 'feed_dict' parameter to pass in a dictionary\n",
        "#Note that tf.constant and tf.placeholder have small first letters and tf.Session has capital first letter\n",
        "z = sess.run(x+y, feed_dict = {x:4, y:6})\n",
        "print(z)\n",
        "z = sess.run(x+y, feed_dict = {x:[4,2], y:[6,1]})\n",
        "print(z)\n",
        "sess.close()"
      ],
      "execution_count": 0,
      "outputs": [
        {
          "output_type": "stream",
          "text": [
            "10.0\n",
            "[10.  3.]\n"
          ],
          "name": "stdout"
        }
      ]
    },
    {
      "cell_type": "markdown",
      "metadata": {
        "id": "flmmev85b_IT",
        "colab_type": "text"
      },
      "source": [
        "#General Information\n",
        "##Gradient descent\n",
        "  Say we have a loss function, at some point we calculate the loss function at that point. Now we get the gradient/slope at that point. To reach to the local/global optimum we move large/small steps in the direction of the gradient. The size of the step is defined as the learning rate for that gradient descent.\n",
        "\n",
        "A general gradient descent is given by :\n",
        "\n",
        "```\n",
        "x = x - alpha *   ( d      f(x) / d x )\n",
        "```\n",
        "\n",
        "\n",
        "where d term is partial derivative\n",
        "\n",
        "  If with increasing epochs the learning rate is getting up and down, that means the gradient is jumping away from the global/local optimum and this means that we should lower the learning rate / step size."
      ]
    },
    {
      "cell_type": "markdown",
      "metadata": {
        "id": "uwuHhBGYof5x",
        "colab_type": "text"
      },
      "source": [
        "##Variables (tf.Variables)\n",
        "They are similar to placeholders but they can be assigned a values while initialising it.\n",
        "They can also be used to change the value using the 'assign' function.\n",
        "It contains a initial value and a shape of the variable."
      ]
    },
    {
      "cell_type": "code",
      "metadata": {
        "id": "SxxwyJ-6duor",
        "colab_type": "code",
        "colab": {}
      },
      "source": [
        "x = tf.Variable([2,5])"
      ],
      "execution_count": 0,
      "outputs": []
    },
    {
      "cell_type": "code",
      "metadata": {
        "id": "MbEBpPfepaO8",
        "colab_type": "code",
        "outputId": "4a7e3c74-51d5-4349-cb47-42209b50b94a",
        "colab": {
          "base_uri": "https://localhost:8080/",
          "height": 35
        }
      },
      "source": [
        "x1 = tf.constant([1,2,3,4])\n",
        "x2 = tf.constant([5,6,7,8])\n",
        "result = tf.multiply(x1, x2)\n",
        "# Initialize Session and run `result`\n",
        "with tf.Session() as sess:\n",
        "  output = sess.run(result)\n",
        "  print(output)"
      ],
      "execution_count": 0,
      "outputs": [
        {
          "output_type": "stream",
          "text": [
            "[ 5 12 21 32]\n"
          ],
          "name": "stdout"
        }
      ]
    },
    {
      "cell_type": "markdown",
      "metadata": {
        "id": "HrHfeBlQuseP",
        "colab_type": "text"
      },
      "source": [
        "##None value in shape of a vector/tensor\n",
        "A None value in the shape of a tensor means that the tensor can be of any size (large than or equal to 1) in that dimension.\n",
        "E.g., for the tf.placeholder you defined in your question, you could pass a arrays with shapes like\n",
        "\n",
        "```\n",
        "[1234, 10]\n",
        "[10, 10]\n",
        "[1, 10]\n",
        "```\n",
        "\n",
        "but not an array of shape [10,] (i.e. a vector).\n"
      ]
    },
    {
      "cell_type": "code",
      "metadata": {
        "id": "fPZxh6HEuqzd",
        "colab_type": "code",
        "colab": {}
      },
      "source": [
        "tf.placeholder(\"float\", [None, 10])"
      ],
      "execution_count": 0,
      "outputs": []
    },
    {
      "cell_type": "markdown",
      "metadata": {
        "id": "fNVAZ9M4vJMH",
        "colab_type": "text"
      },
      "source": [
        "#reduce_mean() \n",
        "computes the mean of elements across dimensions of a tensor."
      ]
    },
    {
      "cell_type": "markdown",
      "metadata": {
        "id": "I1WTRHK3v7If",
        "colab_type": "text"
      },
      "source": [
        "#tf.random.normal\n",
        "\n",
        "Outputs random values from a normal distribution.\n",
        "\n",
        "tf.random.normal(\n",
        "    shape,\n",
        "    mean=0.0,\n",
        "    stddev=1.0,\n",
        "    dtype=tf.dtypes.float32,\n",
        "    seed=None,\n",
        "    name=None\n",
        ")\n"
      ]
    },
    {
      "cell_type": "code",
      "metadata": {
        "id": "SuNYaR40sut1",
        "colab_type": "code",
        "outputId": "1fa8b50e-3f8d-4f60-fb3a-64e58e891b0f",
        "colab": {
          "base_uri": "https://localhost:8080/",
          "height": 35
        }
      },
      "source": [
        "#test = tf.random_normal([5,5],5,1,float,0,\"test\")\n",
        "test = tf.random.normal([5,5],5,1,float,0,\"test\")\n",
        "with tf.Session() as sess:\n",
        "  sess.run(test)\n",
        "  print(test)"
      ],
      "execution_count": 0,
      "outputs": [
        {
          "output_type": "stream",
          "text": [
            "Tensor(\"test_6:0\", shape=(5, 5), dtype=float32)\n"
          ],
          "name": "stdout"
        }
      ]
    },
    {
      "cell_type": "markdown",
      "metadata": {
        "id": "9Jhw7OjTw6jW",
        "colab_type": "text"
      },
      "source": [
        "Variius activation function available in TensorFlow:\n",
        "1. ReLU - Rectified Linear\n",
        "tf.nn.relu(\n",
        "    features,\n",
        "    name=None\n",
        ")\n",
        "\n",
        "2. Tan Hyperbolic\n",
        "3. Sigmoid\n",
        "4. Softmax etc."
      ]
    },
    {
      "cell_type": "markdown",
      "metadata": {
        "id": "t0EoY9xUnZE_",
        "colab_type": "text"
      },
      "source": [
        "#init = tf.global_variables_initializer()\n",
        "init is a handle to the TensorFlow sub-graph that initializes all the global variables.\n",
        "\n",
        "#session.run(                 fetches, feed_dict=None,                 options=None, run_metadata=None                ) \n",
        "'fetches' is a TensorFlow graph element (or a tuple, list, etc. of graph elements)\n",
        "\n",
        "'feed_dict' contains the input and expected data used to compute the values of the elements in fetches;\n",
        "\n",
        "The return values are the values of the elements in fetches, given the data in 'feed_dict'"
      ]
    },
    {
      "cell_type": "code",
      "metadata": {
        "id": "0R029AGNp7Vq",
        "colab_type": "code",
        "colab": {}
      },
      "source": [
        ""
      ],
      "execution_count": 0,
      "outputs": []
    }
  ]
}