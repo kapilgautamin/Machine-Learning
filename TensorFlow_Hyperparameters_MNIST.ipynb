{
  "nbformat": 4,
  "nbformat_minor": 0,
  "metadata": {
    "colab": {
      "name": "Untitled0.ipynb",
      "provenance": [],
      "include_colab_link": true
    },
    "kernelspec": {
      "name": "python3",
      "display_name": "Python 3"
    },
    "accelerator": "TPU"
  },
  "cells": [
    {
      "cell_type": "markdown",
      "metadata": {
        "id": "view-in-github",
        "colab_type": "text"
      },
      "source": [
        "<a href=\"https://colab.research.google.com/github/kapilgautamin/Machine-Learning-/blob/master/TensorFlow_Hyperparameters_MNIST.ipynb\" target=\"_parent\"><img src=\"https://colab.research.google.com/assets/colab-badge.svg\" alt=\"Open In Colab\"/></a>"
      ]
    },
    {
      "cell_type": "markdown",
      "metadata": {
        "id": "FC8C7RbyvrGH",
        "colab_type": "text"
      },
      "source": [
        "#Step 1\n",
        "1. Define parameters - Network and hyper parameters\n",
        "2. TF Computation Grpah\n",
        "3. Multilayer perceptron\n",
        "4. W, b dictionaries\n",
        "5. pred label\n",
        "6. Cost and Optimizers\n",
        "7. Init session\n",
        "8. Run the session and model"
      ]
    },
    {
      "cell_type": "code",
      "metadata": {
        "id": "S0zuRkW_vge1",
        "colab_type": "code",
        "colab": {}
      },
      "source": [
        "import tensorflow as tf\n",
        "from tensorflow.examples.tutorials.mnist import input_data"
      ],
      "execution_count": 0,
      "outputs": []
    },
    {
      "cell_type": "code",
      "metadata": {
        "id": "EcOLR_FHxwh1",
        "colab_type": "code",
        "colab": {
          "base_uri": "https://localhost:8080/",
          "height": 573
        },
        "outputId": "348977d3-a0c2-4ade-b99f-b82097663c91"
      },
      "source": [
        "mnist = input_data.read_data_sets(\"MNIST_data\",one_hot=True)"
      ],
      "execution_count": 2,
      "outputs": [
        {
          "output_type": "stream",
          "text": [
            "WARNING:tensorflow:From <ipython-input-2-3d8a9d232fa5>:1: read_data_sets (from tensorflow.contrib.learn.python.learn.datasets.mnist) is deprecated and will be removed in a future version.\n",
            "Instructions for updating:\n",
            "Please use alternatives such as official/mnist/dataset.py from tensorflow/models.\n",
            "WARNING:tensorflow:From /usr/local/lib/python3.6/dist-packages/tensorflow_core/contrib/learn/python/learn/datasets/mnist.py:260: maybe_download (from tensorflow.contrib.learn.python.learn.datasets.base) is deprecated and will be removed in a future version.\n",
            "Instructions for updating:\n",
            "Please write your own downloading logic.\n",
            "WARNING:tensorflow:From /usr/local/lib/python3.6/dist-packages/tensorflow_core/contrib/learn/python/learn/datasets/base.py:252: _internal_retry.<locals>.wrap.<locals>.wrapped_fn (from tensorflow.contrib.learn.python.learn.datasets.base) is deprecated and will be removed in a future version.\n",
            "Instructions for updating:\n",
            "Please use urllib or similar directly.\n",
            "Successfully downloaded train-images-idx3-ubyte.gz 9912422 bytes.\n",
            "WARNING:tensorflow:From /usr/local/lib/python3.6/dist-packages/tensorflow_core/contrib/learn/python/learn/datasets/mnist.py:262: extract_images (from tensorflow.contrib.learn.python.learn.datasets.mnist) is deprecated and will be removed in a future version.\n",
            "Instructions for updating:\n",
            "Please use tf.data to implement this functionality.\n",
            "Extracting MNIST_data/train-images-idx3-ubyte.gz\n",
            "Successfully downloaded train-labels-idx1-ubyte.gz 28881 bytes.\n",
            "WARNING:tensorflow:From /usr/local/lib/python3.6/dist-packages/tensorflow_core/contrib/learn/python/learn/datasets/mnist.py:267: extract_labels (from tensorflow.contrib.learn.python.learn.datasets.mnist) is deprecated and will be removed in a future version.\n",
            "Instructions for updating:\n",
            "Please use tf.data to implement this functionality.\n",
            "Extracting MNIST_data/train-labels-idx1-ubyte.gz\n",
            "WARNING:tensorflow:From /usr/local/lib/python3.6/dist-packages/tensorflow_core/contrib/learn/python/learn/datasets/mnist.py:110: dense_to_one_hot (from tensorflow.contrib.learn.python.learn.datasets.mnist) is deprecated and will be removed in a future version.\n",
            "Instructions for updating:\n",
            "Please use tf.one_hot on tensors.\n",
            "Successfully downloaded t10k-images-idx3-ubyte.gz 1648877 bytes.\n",
            "Extracting MNIST_data/t10k-images-idx3-ubyte.gz\n",
            "Successfully downloaded t10k-labels-idx1-ubyte.gz 4542 bytes.\n",
            "Extracting MNIST_data/t10k-labels-idx1-ubyte.gz\n",
            "WARNING:tensorflow:From /usr/local/lib/python3.6/dist-packages/tensorflow_core/contrib/learn/python/learn/datasets/mnist.py:290: DataSet.__init__ (from tensorflow.contrib.learn.python.learn.datasets.mnist) is deprecated and will be removed in a future version.\n",
            "Instructions for updating:\n",
            "Please use alternatives such as official/mnist/dataset.py from tensorflow/models.\n"
          ],
          "name": "stdout"
        }
      ]
    },
    {
      "cell_type": "code",
      "metadata": {
        "id": "2sar0dzbwvTx",
        "colab_type": "code",
        "colab": {}
      },
      "source": [
        "learning_rate = 0.01\n",
        "training_epochs = 100\n",
        "batch_size = 64"
      ],
      "execution_count": 0,
      "outputs": []
    },
    {
      "cell_type": "code",
      "metadata": {
        "id": "AIWDDRV7xL8m",
        "colab_type": "code",
        "colab": {}
      },
      "source": [
        "#Network Parameters\n",
        "n_hidden_1 = 64\n",
        "n_hidden_2 = 32\n",
        "n_input = 784\n",
        "n_classes = 10\n",
        "n_samples = mnist.train.num_examples"
      ],
      "execution_count": 0,
      "outputs": []
    },
    {
      "cell_type": "code",
      "metadata": {
        "id": "_v0PijrAxsZN",
        "colab_type": "code",
        "colab": {
          "base_uri": "https://localhost:8080/",
          "height": 35
        },
        "outputId": "5d7f701f-37b3-42e0-b1d6-d9e465f5bf1b"
      },
      "source": [
        "n_samples"
      ],
      "execution_count": 5,
      "outputs": [
        {
          "output_type": "execute_result",
          "data": {
            "text/plain": [
              "55000"
            ]
          },
          "metadata": {
            "tags": []
          },
          "execution_count": 5
        }
      ]
    },
    {
      "cell_type": "code",
      "metadata": {
        "id": "9V-XfxAfxzcs",
        "colab_type": "code",
        "colab": {}
      },
      "source": [
        "#TF graph inputs / placeholders\n",
        "x = tf.placeholder(\"float\",[None, n_input])\n",
        "y = tf.placeholder(\"float\",[None, n_classes])"
      ],
      "execution_count": 0,
      "outputs": []
    },
    {
      "cell_type": "code",
      "metadata": {
        "id": "cxxyR1l3zFGy",
        "colab_type": "code",
        "colab": {}
      },
      "source": [
        "# weights and biases\n",
        "weights = {\n",
        "    'h1': tf.Variable(tf.random_normal([n_input, n_hidden_1])),\n",
        "    'h2': tf.Variable(tf.random_normal([n_hidden_1, n_hidden_2])),\n",
        "    'out': tf.Variable(tf.random_normal([n_hidden_2, n_classes]))\n",
        "}\n",
        "\n",
        "biases = {\n",
        "    'b1': tf.Variable(tf.random_normal([n_hidden_1])),\n",
        "    'b2': tf.Variable(tf.random_normal([n_hidden_2])),\n",
        "    'out': tf.Variable(tf.random_normal([n_classes]))\n",
        "                                        \n",
        "}"
      ],
      "execution_count": 0,
      "outputs": []
    },
    {
      "cell_type": "code",
      "metadata": {
        "id": "8aPw8-icyMo9",
        "colab_type": "code",
        "colab": {}
      },
      "source": [
        "# MLP\n",
        "def mlp(x, weights, biases):\n",
        "    \n",
        "    layer_1 = tf.add(tf.matmul(x, weights['h1']), biases['b1'])\n",
        "    layer_1 = tf.nn.sigmoid(layer_1)\n",
        "    \n",
        "    layer_2 = tf.add(tf.matmul(layer_1, weights['h2']), biases['b2'])\n",
        "    layer_2 = tf.nn.relu(layer_2)\n",
        "    \n",
        "    # final output\n",
        "    \n",
        "    out_layer = tf.add(tf.matmul(layer_2, weights['out']), biases['out'])\n",
        "    return out_layer "
      ],
      "execution_count": 0,
      "outputs": []
    },
    {
      "cell_type": "code",
      "metadata": {
        "id": "_cBh81e31Deb",
        "colab_type": "code",
        "colab": {}
      },
      "source": [
        "#predicted_label\n",
        "pred = mlp(x, weights, biases)"
      ],
      "execution_count": 0,
      "outputs": []
    },
    {
      "cell_type": "code",
      "metadata": {
        "id": "BgrhpruB1KAK",
        "colab_type": "code",
        "colab": {}
      },
      "source": [
        "#costs/optimizers\n",
        "cost = tf.reduce_mean(tf.nn.softmax_cross_entropy_with_logits_v2(labels=y,logits=pred))\n",
        "optimizer = tf.train.AdamOptimizer(learning_rate=learning_rate).minimize(cost)"
      ],
      "execution_count": 0,
      "outputs": []
    },
    {
      "cell_type": "code",
      "metadata": {
        "id": "VVIVr_Na1Wda",
        "colab_type": "code",
        "colab": {}
      },
      "source": [
        "#init\n",
        "init = tf.global_variables_initializer()"
      ],
      "execution_count": 0,
      "outputs": []
    },
    {
      "cell_type": "code",
      "metadata": {
        "id": "7B4GSj3Q1bC8",
        "colab_type": "code",
        "colab": {
          "base_uri": "https://localhost:8080/",
          "height": 1000
        },
        "outputId": "2c2db16d-3f16-4499-f9e1-8b7025281ea5"
      },
      "source": [
        "sess = tf.InteractiveSession()\n",
        "\n",
        "sess.run(init)\n",
        "\n",
        "for epoch in range(training_epochs):\n",
        "    avg_cost = 0.0\n",
        "    total_batch = int(n_samples/batch_size)\n",
        "    \n",
        "    # loop over all batches\n",
        "    for i in range(total_batch):\n",
        "        # grab the next batch\n",
        "        batch_x, batch_y = mnist.train.next_batch(batch_size)\n",
        "        # feed in the dict to minimize & optimize cost loss\n",
        "        _, c = sess.run([optimizer, cost], feed_dict={x:batch_x, y:batch_y})\n",
        "        \n",
        "        # compute avg loss\n",
        "        avg_cost += c / total_batch\n",
        "        \n",
        "    \n",
        "    print(\"Epoch: {} cost={: .4f}\".format(epoch+1, avg_cost))\n",
        "\n",
        "print(\"Model has completed {} Epochs of training\".format(training_epochs))"
      ],
      "execution_count": 16,
      "outputs": [
        {
          "output_type": "stream",
          "text": [
            "Epoch: 1 cost= 0.9686\n",
            "Epoch: 2 cost= 0.3059\n",
            "Epoch: 3 cost= 0.2242\n",
            "Epoch: 4 cost= 0.1876\n",
            "Epoch: 5 cost= 0.1585\n",
            "Epoch: 6 cost= 0.1425\n",
            "Epoch: 7 cost= 0.1301\n",
            "Epoch: 8 cost= 0.1178\n",
            "Epoch: 9 cost= 0.1079\n",
            "Epoch: 10 cost= 0.1034\n",
            "Epoch: 11 cost= 0.0990\n",
            "Epoch: 12 cost= 0.0916\n",
            "Epoch: 13 cost= 0.0843\n",
            "Epoch: 14 cost= 0.0822\n",
            "Epoch: 15 cost= 0.0747\n",
            "Epoch: 16 cost= 0.0733\n",
            "Epoch: 17 cost= 0.0785\n",
            "Epoch: 18 cost= 0.0694\n",
            "Epoch: 19 cost= 0.0680\n",
            "Epoch: 20 cost= 0.0640\n",
            "Epoch: 21 cost= 0.0649\n",
            "Epoch: 22 cost= 0.0631\n",
            "Epoch: 23 cost= 0.0588\n",
            "Epoch: 24 cost= 0.0562\n",
            "Epoch: 25 cost= 0.0578\n",
            "Epoch: 26 cost= 0.0546\n",
            "Epoch: 27 cost= 0.0571\n",
            "Epoch: 28 cost= 0.0490\n",
            "Epoch: 29 cost= 0.0507\n",
            "Epoch: 30 cost= 0.0489\n",
            "Epoch: 31 cost= 0.0473\n",
            "Epoch: 32 cost= 0.0450\n",
            "Epoch: 33 cost= 0.0493\n",
            "Epoch: 34 cost= 0.0481\n",
            "Epoch: 35 cost= 0.0493\n",
            "Epoch: 36 cost= 0.0422\n",
            "Epoch: 37 cost= 0.0404\n",
            "Epoch: 38 cost= 0.0437\n",
            "Epoch: 39 cost= 0.0434\n",
            "Epoch: 40 cost= 0.0403\n",
            "Epoch: 41 cost= 0.0436\n",
            "Epoch: 42 cost= 0.0433\n",
            "Epoch: 43 cost= 0.0366\n",
            "Epoch: 44 cost= 0.0351\n",
            "Epoch: 45 cost= 0.0393\n",
            "Epoch: 46 cost= 0.0382\n",
            "Epoch: 47 cost= 0.0367\n",
            "Epoch: 48 cost= 0.0420\n",
            "Epoch: 49 cost= 0.0366\n",
            "Epoch: 50 cost= 0.0335\n",
            "Epoch: 51 cost= 0.0341\n",
            "Epoch: 52 cost= 0.0360\n",
            "Epoch: 53 cost= 0.0337\n",
            "Epoch: 54 cost= 0.0335\n",
            "Epoch: 55 cost= 0.0315\n",
            "Epoch: 56 cost= 0.0352\n",
            "Epoch: 57 cost= 0.0387\n",
            "Epoch: 58 cost= 0.0319\n",
            "Epoch: 59 cost= 0.0325\n",
            "Epoch: 60 cost= 0.0316\n",
            "Epoch: 61 cost= 0.0318\n",
            "Epoch: 62 cost= 0.0331\n",
            "Epoch: 63 cost= 0.0293\n",
            "Epoch: 64 cost= 0.0348\n",
            "Epoch: 65 cost= 0.0274\n",
            "Epoch: 66 cost= 0.0306\n",
            "Epoch: 67 cost= 0.0276\n",
            "Epoch: 68 cost= 0.0303\n",
            "Epoch: 69 cost= 0.0284\n",
            "Epoch: 70 cost= 0.0305\n",
            "Epoch: 71 cost= 0.0246\n",
            "Epoch: 72 cost= 0.0301\n",
            "Epoch: 73 cost= 0.0317\n",
            "Epoch: 74 cost= 0.0262\n",
            "Epoch: 75 cost= 0.0274\n",
            "Epoch: 76 cost= 0.0262\n",
            "Epoch: 77 cost= 0.0272\n",
            "Epoch: 78 cost= 0.0261\n",
            "Epoch: 79 cost= 0.0266\n",
            "Epoch: 80 cost= 0.0269\n",
            "Epoch: 81 cost= 0.0249\n",
            "Epoch: 82 cost= 0.0231\n",
            "Epoch: 83 cost= 0.0296\n",
            "Epoch: 84 cost= 0.0293\n",
            "Epoch: 85 cost= 0.0254\n",
            "Epoch: 86 cost= 0.0262\n",
            "Epoch: 87 cost= 0.0288\n",
            "Epoch: 88 cost= 0.0275\n",
            "Epoch: 89 cost= 0.0255\n",
            "Epoch: 90 cost= 0.0242\n",
            "Epoch: 91 cost= 0.0228\n",
            "Epoch: 92 cost= 0.0252\n",
            "Epoch: 93 cost= 0.0276\n",
            "Epoch: 94 cost= 0.0269\n",
            "Epoch: 95 cost= 0.0183\n",
            "Epoch: 96 cost= 0.0305\n",
            "Epoch: 97 cost= 0.0245\n",
            "Epoch: 98 cost= 0.0200\n",
            "Epoch: 99 cost= 0.0215\n",
            "Epoch: 100 cost= 0.0253\n",
            "Model has completed 100 Epochs of training\n"
          ],
          "name": "stdout"
        }
      ]
    },
    {
      "cell_type": "code",
      "metadata": {
        "id": "ysZGyojZ3qCT",
        "colab_type": "code",
        "colab": {}
      },
      "source": [
        "correct_predictions = tf.equal(tf.argmax(pred,1),tf.argmax(y,1))"
      ],
      "execution_count": 0,
      "outputs": []
    },
    {
      "cell_type": "code",
      "metadata": {
        "id": "qutNJJEp4GOi",
        "colab_type": "code",
        "colab": {
          "base_uri": "https://localhost:8080/",
          "height": 35
        },
        "outputId": "38f40b1a-c637-4912-a3ff-9fb0c6e893fa"
      },
      "source": [
        "print(correct_predictions[0])"
      ],
      "execution_count": 18,
      "outputs": [
        {
          "output_type": "stream",
          "text": [
            "Tensor(\"strided_slice:0\", shape=(), dtype=bool)\n"
          ],
          "name": "stdout"
        }
      ]
    },
    {
      "cell_type": "code",
      "metadata": {
        "id": "YEkS6dO94k6d",
        "colab_type": "code",
        "colab": {}
      },
      "source": [
        "correct_predictions = tf.cast(correct_predictions,\"float\")"
      ],
      "execution_count": 0,
      "outputs": []
    },
    {
      "cell_type": "code",
      "metadata": {
        "id": "8lvPMFH_4qIW",
        "colab_type": "code",
        "colab": {
          "base_uri": "https://localhost:8080/",
          "height": 35
        },
        "outputId": "ccdc4289-f2c7-4d60-f4a3-49aaa2cd9b23"
      },
      "source": [
        "accuracy = tf.reduce_mean(correct_predictions)\n",
        "print(\"Accuracy: \", accuracy.eval({x:mnist.test.images,y:mnist.test.labels}))"
      ],
      "execution_count": 20,
      "outputs": [
        {
          "output_type": "stream",
          "text": [
            "Accuracy:  0.964\n"
          ],
          "name": "stdout"
        }
      ]
    },
    {
      "cell_type": "code",
      "metadata": {
        "id": "XXVZ2BPe7-xU",
        "colab_type": "code",
        "colab": {}
      },
      "source": [
        ""
      ],
      "execution_count": 0,
      "outputs": []
    }
  ]
}