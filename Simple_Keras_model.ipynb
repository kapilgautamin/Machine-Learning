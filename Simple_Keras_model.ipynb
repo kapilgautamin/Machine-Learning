{
  "nbformat": 4,
  "nbformat_minor": 0,
  "metadata": {
    "colab": {
      "name": "Simple_Keras_model.ipynb",
      "provenance": [],
      "include_colab_link": true
    },
    "kernelspec": {
      "name": "python3",
      "display_name": "Python 3"
    },
    "accelerator": "GPU"
  },
  "cells": [
    {
      "cell_type": "markdown",
      "metadata": {
        "id": "view-in-github",
        "colab_type": "text"
      },
      "source": [
        "<a href=\"https://colab.research.google.com/github/kapilgautamin/Machine-Learning-/blob/master/Simple_Keras_model.ipynb\" target=\"_parent\"><img src=\"https://colab.research.google.com/assets/colab-badge.svg\" alt=\"Open In Colab\"/></a>"
      ]
    },
    {
      "cell_type": "code",
      "metadata": {
        "id": "VHXrklKT29Mm",
        "colab_type": "code",
        "colab": {}
      },
      "source": [
        "import keras"
      ],
      "execution_count": 0,
      "outputs": []
    },
    {
      "cell_type": "code",
      "metadata": {
        "id": "J3dszEvR3sOt",
        "colab_type": "code",
        "colab": {
          "base_uri": "https://localhost:8080/",
          "height": 35
        },
        "outputId": "7abe347b-09a8-4066-e3e9-957f6731f514"
      },
      "source": [
        "keras.__version__"
      ],
      "execution_count": 61,
      "outputs": [
        {
          "output_type": "execute_result",
          "data": {
            "text/plain": [
              "'2.2.5'"
            ]
          },
          "metadata": {
            "tags": []
          },
          "execution_count": 61
        }
      ]
    },
    {
      "cell_type": "code",
      "metadata": {
        "id": "PWJl4EPJ3vB6",
        "colab_type": "code",
        "colab": {}
      },
      "source": [
        "from keras.datasets import mnist"
      ],
      "execution_count": 0,
      "outputs": []
    },
    {
      "cell_type": "code",
      "metadata": {
        "id": "c5gFu6LD36OQ",
        "colab_type": "code",
        "colab": {}
      },
      "source": [
        "(train_images, train_labels) , (test_images, test_labels) = mnist.load_data()"
      ],
      "execution_count": 0,
      "outputs": []
    },
    {
      "cell_type": "code",
      "metadata": {
        "id": "GMZYN08A4G0F",
        "colab_type": "code",
        "colab": {
          "base_uri": "https://localhost:8080/",
          "height": 35
        },
        "outputId": "dcf25453-8d71-4f70-b0c1-1c29c7cf6808"
      },
      "source": [
        "train_images.shape"
      ],
      "execution_count": 64,
      "outputs": [
        {
          "output_type": "execute_result",
          "data": {
            "text/plain": [
              "(60000, 28, 28)"
            ]
          },
          "metadata": {
            "tags": []
          },
          "execution_count": 64
        }
      ]
    },
    {
      "cell_type": "code",
      "metadata": {
        "id": "jqb6QJiN4igk",
        "colab_type": "code",
        "colab": {
          "base_uri": "https://localhost:8080/",
          "height": 35
        },
        "outputId": "8691bd75-7f9f-4d76-8cd6-26bdb6a2c305"
      },
      "source": [
        "train_labels"
      ],
      "execution_count": 65,
      "outputs": [
        {
          "output_type": "execute_result",
          "data": {
            "text/plain": [
              "array([5, 0, 4, ..., 5, 6, 8], dtype=uint8)"
            ]
          },
          "metadata": {
            "tags": []
          },
          "execution_count": 65
        }
      ]
    },
    {
      "cell_type": "code",
      "metadata": {
        "id": "wGtq6z1N4veU",
        "colab_type": "code",
        "colab": {
          "base_uri": "https://localhost:8080/",
          "height": 35
        },
        "outputId": "f9003e4e-9987-4777-986d-9f65553575e1"
      },
      "source": [
        "test_images.shape"
      ],
      "execution_count": 66,
      "outputs": [
        {
          "output_type": "execute_result",
          "data": {
            "text/plain": [
              "(10000, 28, 28)"
            ]
          },
          "metadata": {
            "tags": []
          },
          "execution_count": 66
        }
      ]
    },
    {
      "cell_type": "code",
      "metadata": {
        "id": "S2JmAYrF41G4",
        "colab_type": "code",
        "colab": {
          "base_uri": "https://localhost:8080/",
          "height": 35
        },
        "outputId": "7800e37f-a13d-4c3a-a149-51e55b8aeccd"
      },
      "source": [
        "len(test_labels)"
      ],
      "execution_count": 67,
      "outputs": [
        {
          "output_type": "execute_result",
          "data": {
            "text/plain": [
              "10000"
            ]
          },
          "metadata": {
            "tags": []
          },
          "execution_count": 67
        }
      ]
    },
    {
      "cell_type": "code",
      "metadata": {
        "id": "LwIISxdl4444",
        "colab_type": "code",
        "colab": {}
      },
      "source": [
        "from keras import models\n",
        "from keras import layers"
      ],
      "execution_count": 0,
      "outputs": []
    },
    {
      "cell_type": "code",
      "metadata": {
        "id": "wKGkKXrS4_X4",
        "colab_type": "code",
        "colab": {}
      },
      "source": [
        "network = models.Sequential()\n",
        "network.add(layers.Dense(512, activation='relu', input_shape=(28*28,)))\n",
        "network.add(layers.Dense(10,activation='softmax'))"
      ],
      "execution_count": 0,
      "outputs": []
    },
    {
      "cell_type": "code",
      "metadata": {
        "id": "ghOvehMU5YyN",
        "colab_type": "code",
        "colab": {}
      },
      "source": [
        "#compile\n",
        "network.compile(optimizer='rmsprop',\n",
        "                loss = 'categorical_crossentropy',\n",
        "                metrics = ['accuracy'])"
      ],
      "execution_count": 0,
      "outputs": []
    },
    {
      "cell_type": "code",
      "metadata": {
        "id": "bvpIjJYi5y4s",
        "colab_type": "code",
        "colab": {}
      },
      "source": [
        "#reshape and rescale\n",
        "train_images = train_images.reshape(60000, 28*28)\n",
        "train_images = train_images.astype('float32')/255\n",
        "\n",
        "test_images = test_images.reshape(10000, 28*28)\n",
        "test_images = test_images.astype('float32')/255"
      ],
      "execution_count": 0,
      "outputs": []
    },
    {
      "cell_type": "code",
      "metadata": {
        "id": "BXNPHTsG6RTK",
        "colab_type": "code",
        "colab": {}
      },
      "source": [
        "from keras.utils import to_categorical"
      ],
      "execution_count": 0,
      "outputs": []
    },
    {
      "cell_type": "code",
      "metadata": {
        "id": "mw0FehTQ6XR9",
        "colab_type": "code",
        "colab": {}
      },
      "source": [
        "train_labels = to_categorical(train_labels)\n",
        "test_labels = to_categorical(test_labels)"
      ],
      "execution_count": 0,
      "outputs": []
    },
    {
      "cell_type": "code",
      "metadata": {
        "id": "0qPqc4s06eCt",
        "colab_type": "code",
        "colab": {
          "base_uri": "https://localhost:8080/",
          "height": 1000
        },
        "outputId": "c468a5c6-c86b-4fb9-e077-fcb81b8908eb"
      },
      "source": [
        "#fit the model\n",
        "network.fit(train_images,\n",
        "            train_labels,\n",
        "            epochs=100,\n",
        "            batch_size = 256)"
      ],
      "execution_count": 74,
      "outputs": [
        {
          "output_type": "stream",
          "text": [
            "Epoch 1/100\n",
            "60000/60000 [==============================] - 1s 20us/step - loss: 0.3069 - acc: 0.9132\n",
            "Epoch 2/100\n",
            "60000/60000 [==============================] - 1s 18us/step - loss: 0.1301 - acc: 0.9619\n",
            "Epoch 3/100\n",
            "60000/60000 [==============================] - 1s 17us/step - loss: 0.0862 - acc: 0.9754\n",
            "Epoch 4/100\n",
            "60000/60000 [==============================] - 1s 17us/step - loss: 0.0629 - acc: 0.9814\n",
            "Epoch 5/100\n",
            "60000/60000 [==============================] - 1s 17us/step - loss: 0.0477 - acc: 0.9862\n",
            "Epoch 6/100\n",
            "60000/60000 [==============================] - 1s 16us/step - loss: 0.0371 - acc: 0.9890\n",
            "Epoch 7/100\n",
            "60000/60000 [==============================] - 1s 16us/step - loss: 0.0291 - acc: 0.9917\n",
            "Epoch 8/100\n",
            "60000/60000 [==============================] - 1s 16us/step - loss: 0.0232 - acc: 0.9934\n",
            "Epoch 9/100\n",
            "60000/60000 [==============================] - 1s 17us/step - loss: 0.0179 - acc: 0.9953\n",
            "Epoch 10/100\n",
            "60000/60000 [==============================] - 1s 17us/step - loss: 0.0140 - acc: 0.9963\n",
            "Epoch 11/100\n",
            "60000/60000 [==============================] - 1s 16us/step - loss: 0.0113 - acc: 0.9970\n",
            "Epoch 12/100\n",
            "60000/60000 [==============================] - 1s 16us/step - loss: 0.0084 - acc: 0.9979\n",
            "Epoch 13/100\n",
            "60000/60000 [==============================] - 1s 16us/step - loss: 0.0074 - acc: 0.9983\n",
            "Epoch 14/100\n",
            "60000/60000 [==============================] - 1s 16us/step - loss: 0.0053 - acc: 0.9988\n",
            "Epoch 15/100\n",
            "60000/60000 [==============================] - 1s 17us/step - loss: 0.0047 - acc: 0.9990\n",
            "Epoch 16/100\n",
            "60000/60000 [==============================] - 1s 17us/step - loss: 0.0036 - acc: 0.9992\n",
            "Epoch 17/100\n",
            "60000/60000 [==============================] - 1s 17us/step - loss: 0.0027 - acc: 0.9995\n",
            "Epoch 18/100\n",
            "60000/60000 [==============================] - 1s 17us/step - loss: 0.0026 - acc: 0.9995\n",
            "Epoch 19/100\n",
            "60000/60000 [==============================] - 1s 16us/step - loss: 0.0019 - acc: 0.9996\n",
            "Epoch 20/100\n",
            "60000/60000 [==============================] - 1s 16us/step - loss: 0.0018 - acc: 0.9996\n",
            "Epoch 21/100\n",
            "60000/60000 [==============================] - 1s 16us/step - loss: 0.0013 - acc: 0.9998\n",
            "Epoch 22/100\n",
            "60000/60000 [==============================] - 1s 17us/step - loss: 0.0011 - acc: 0.9999\n",
            "Epoch 23/100\n",
            "60000/60000 [==============================] - 1s 16us/step - loss: 9.7353e-04 - acc: 0.9998\n",
            "Epoch 24/100\n",
            "60000/60000 [==============================] - 1s 16us/step - loss: 9.5229e-04 - acc: 0.9999\n",
            "Epoch 25/100\n",
            "60000/60000 [==============================] - 1s 16us/step - loss: 7.2196e-04 - acc: 0.9999\n",
            "Epoch 26/100\n",
            "60000/60000 [==============================] - 1s 16us/step - loss: 6.2892e-04 - acc: 0.9999\n",
            "Epoch 27/100\n",
            "60000/60000 [==============================] - 1s 17us/step - loss: 6.5560e-04 - acc: 0.9999\n",
            "Epoch 28/100\n",
            "60000/60000 [==============================] - 1s 17us/step - loss: 6.1434e-04 - acc: 0.9999\n",
            "Epoch 29/100\n",
            "60000/60000 [==============================] - 1s 17us/step - loss: 4.3301e-04 - acc: 1.0000\n",
            "Epoch 30/100\n",
            "60000/60000 [==============================] - 1s 17us/step - loss: 6.3120e-04 - acc: 0.9999\n",
            "Epoch 31/100\n",
            "60000/60000 [==============================] - 1s 17us/step - loss: 4.2254e-04 - acc: 0.9999\n",
            "Epoch 32/100\n",
            "60000/60000 [==============================] - 1s 17us/step - loss: 4.2031e-04 - acc: 1.0000\n",
            "Epoch 33/100\n",
            "60000/60000 [==============================] - 1s 16us/step - loss: 3.8047e-04 - acc: 1.0000\n",
            "Epoch 34/100\n",
            "60000/60000 [==============================] - 1s 16us/step - loss: 3.9444e-04 - acc: 1.0000\n",
            "Epoch 35/100\n",
            "60000/60000 [==============================] - 1s 17us/step - loss: 3.2904e-04 - acc: 1.0000\n",
            "Epoch 36/100\n",
            "60000/60000 [==============================] - 1s 18us/step - loss: 3.9233e-04 - acc: 1.0000\n",
            "Epoch 37/100\n",
            "60000/60000 [==============================] - 1s 18us/step - loss: 3.0894e-04 - acc: 1.0000\n",
            "Epoch 38/100\n",
            "60000/60000 [==============================] - 1s 17us/step - loss: 2.9525e-04 - acc: 1.0000\n",
            "Epoch 39/100\n",
            "60000/60000 [==============================] - 1s 17us/step - loss: 3.0317e-04 - acc: 1.0000\n",
            "Epoch 40/100\n",
            "60000/60000 [==============================] - 1s 17us/step - loss: 3.0455e-04 - acc: 1.0000\n",
            "Epoch 41/100\n",
            "60000/60000 [==============================] - 1s 17us/step - loss: 2.9429e-04 - acc: 1.0000\n",
            "Epoch 42/100\n",
            "60000/60000 [==============================] - 1s 17us/step - loss: 2.8942e-04 - acc: 1.0000\n",
            "Epoch 43/100\n",
            "60000/60000 [==============================] - 1s 17us/step - loss: 3.2908e-04 - acc: 1.0000\n",
            "Epoch 44/100\n",
            "60000/60000 [==============================] - 1s 18us/step - loss: 2.8166e-04 - acc: 1.0000\n",
            "Epoch 45/100\n",
            "60000/60000 [==============================] - 1s 16us/step - loss: 3.2455e-04 - acc: 1.0000\n",
            "Epoch 46/100\n",
            "60000/60000 [==============================] - 1s 17us/step - loss: 2.7422e-04 - acc: 1.0000\n",
            "Epoch 47/100\n",
            "60000/60000 [==============================] - 1s 17us/step - loss: 2.7064e-04 - acc: 1.0000\n",
            "Epoch 48/100\n",
            "60000/60000 [==============================] - 1s 17us/step - loss: 2.6991e-04 - acc: 1.0000\n",
            "Epoch 49/100\n",
            "60000/60000 [==============================] - 1s 16us/step - loss: 2.6895e-04 - acc: 1.0000\n",
            "Epoch 50/100\n",
            "60000/60000 [==============================] - 1s 17us/step - loss: 2.6884e-04 - acc: 1.0000\n",
            "Epoch 51/100\n",
            "60000/60000 [==============================] - 1s 17us/step - loss: 2.6882e-04 - acc: 1.0000\n",
            "Epoch 52/100\n",
            "60000/60000 [==============================] - 1s 17us/step - loss: 2.6881e-04 - acc: 1.0000\n",
            "Epoch 53/100\n",
            "60000/60000 [==============================] - 1s 16us/step - loss: 2.6880e-04 - acc: 1.0000\n",
            "Epoch 54/100\n",
            "60000/60000 [==============================] - 1s 16us/step - loss: 2.6880e-04 - acc: 1.0000\n",
            "Epoch 55/100\n",
            "60000/60000 [==============================] - 1s 17us/step - loss: 2.6879e-04 - acc: 1.0000\n",
            "Epoch 56/100\n",
            "60000/60000 [==============================] - 1s 16us/step - loss: 2.6879e-04 - acc: 1.0000\n",
            "Epoch 57/100\n",
            "60000/60000 [==============================] - 1s 17us/step - loss: 2.6879e-04 - acc: 1.0000\n",
            "Epoch 58/100\n",
            "60000/60000 [==============================] - 1s 16us/step - loss: 2.6878e-04 - acc: 1.0000\n",
            "Epoch 59/100\n",
            "60000/60000 [==============================] - 1s 16us/step - loss: 2.6878e-04 - acc: 1.0000\n",
            "Epoch 60/100\n",
            "60000/60000 [==============================] - 1s 17us/step - loss: 2.6878e-04 - acc: 1.0000\n",
            "Epoch 61/100\n",
            "60000/60000 [==============================] - 1s 16us/step - loss: 2.6878e-04 - acc: 1.0000\n",
            "Epoch 62/100\n",
            "60000/60000 [==============================] - 1s 16us/step - loss: 2.6878e-04 - acc: 1.0000\n",
            "Epoch 63/100\n",
            "60000/60000 [==============================] - 1s 16us/step - loss: 2.6877e-04 - acc: 1.0000\n",
            "Epoch 64/100\n",
            "60000/60000 [==============================] - 1s 17us/step - loss: 2.6877e-04 - acc: 1.0000\n",
            "Epoch 65/100\n",
            "60000/60000 [==============================] - 1s 17us/step - loss: 2.6877e-04 - acc: 1.0000\n",
            "Epoch 66/100\n",
            "60000/60000 [==============================] - 1s 16us/step - loss: 2.6877e-04 - acc: 1.0000\n",
            "Epoch 67/100\n",
            "60000/60000 [==============================] - 1s 17us/step - loss: 2.6877e-04 - acc: 1.0000\n",
            "Epoch 68/100\n",
            "60000/60000 [==============================] - 1s 16us/step - loss: 2.6877e-04 - acc: 1.0000\n",
            "Epoch 69/100\n",
            "60000/60000 [==============================] - 1s 17us/step - loss: 2.6877e-04 - acc: 1.0000\n",
            "Epoch 70/100\n",
            "60000/60000 [==============================] - 1s 17us/step - loss: 2.6877e-04 - acc: 1.0000\n",
            "Epoch 71/100\n",
            "60000/60000 [==============================] - 1s 16us/step - loss: 2.6877e-04 - acc: 1.0000\n",
            "Epoch 72/100\n",
            "60000/60000 [==============================] - 1s 16us/step - loss: 2.6877e-04 - acc: 1.0000\n",
            "Epoch 73/100\n",
            "60000/60000 [==============================] - 1s 15us/step - loss: 2.6877e-04 - acc: 1.0000\n",
            "Epoch 74/100\n",
            "60000/60000 [==============================] - 1s 17us/step - loss: 2.6877e-04 - acc: 1.0000\n",
            "Epoch 75/100\n",
            "60000/60000 [==============================] - 1s 16us/step - loss: 2.6877e-04 - acc: 1.0000\n",
            "Epoch 76/100\n",
            "60000/60000 [==============================] - 1s 17us/step - loss: 2.6876e-04 - acc: 1.0000\n",
            "Epoch 77/100\n",
            "60000/60000 [==============================] - 1s 17us/step - loss: 2.6876e-04 - acc: 1.0000\n",
            "Epoch 78/100\n",
            "60000/60000 [==============================] - 1s 16us/step - loss: 2.6876e-04 - acc: 1.0000\n",
            "Epoch 79/100\n",
            "60000/60000 [==============================] - 1s 16us/step - loss: 2.6876e-04 - acc: 1.0000\n",
            "Epoch 80/100\n",
            "60000/60000 [==============================] - 1s 16us/step - loss: 2.6876e-04 - acc: 1.0000\n",
            "Epoch 81/100\n",
            "60000/60000 [==============================] - 1s 16us/step - loss: 2.6876e-04 - acc: 1.0000\n",
            "Epoch 82/100\n",
            "60000/60000 [==============================] - 1s 17us/step - loss: 2.6876e-04 - acc: 1.0000\n",
            "Epoch 83/100\n",
            "60000/60000 [==============================] - 1s 17us/step - loss: 2.6876e-04 - acc: 1.0000\n",
            "Epoch 84/100\n",
            "60000/60000 [==============================] - 1s 17us/step - loss: 2.6876e-04 - acc: 1.0000\n",
            "Epoch 85/100\n",
            "60000/60000 [==============================] - 1s 17us/step - loss: 2.6876e-04 - acc: 1.0000\n",
            "Epoch 86/100\n",
            "60000/60000 [==============================] - 1s 16us/step - loss: 2.6876e-04 - acc: 1.0000\n",
            "Epoch 87/100\n",
            "60000/60000 [==============================] - 1s 16us/step - loss: 2.6876e-04 - acc: 1.0000\n",
            "Epoch 88/100\n",
            "60000/60000 [==============================] - 1s 17us/step - loss: 2.6876e-04 - acc: 1.0000\n",
            "Epoch 89/100\n",
            "60000/60000 [==============================] - 1s 16us/step - loss: 2.6876e-04 - acc: 1.0000\n",
            "Epoch 90/100\n",
            "60000/60000 [==============================] - 1s 17us/step - loss: 2.6876e-04 - acc: 1.0000\n",
            "Epoch 91/100\n",
            "60000/60000 [==============================] - 1s 17us/step - loss: 2.6876e-04 - acc: 1.0000\n",
            "Epoch 92/100\n",
            "60000/60000 [==============================] - 1s 16us/step - loss: 2.6876e-04 - acc: 1.0000\n",
            "Epoch 93/100\n",
            "60000/60000 [==============================] - 1s 16us/step - loss: 2.6876e-04 - acc: 1.0000\n",
            "Epoch 94/100\n",
            "60000/60000 [==============================] - 1s 16us/step - loss: 2.6876e-04 - acc: 1.0000\n",
            "Epoch 95/100\n",
            "60000/60000 [==============================] - 1s 16us/step - loss: 2.6876e-04 - acc: 1.0000\n",
            "Epoch 96/100\n",
            "60000/60000 [==============================] - 1s 17us/step - loss: 2.6876e-04 - acc: 1.0000\n",
            "Epoch 97/100\n",
            "60000/60000 [==============================] - 1s 17us/step - loss: 2.6876e-04 - acc: 1.0000\n",
            "Epoch 98/100\n",
            "60000/60000 [==============================] - 1s 17us/step - loss: 2.6876e-04 - acc: 1.0000\n",
            "Epoch 99/100\n",
            "60000/60000 [==============================] - 1s 17us/step - loss: 2.6876e-04 - acc: 1.0000\n",
            "Epoch 100/100\n",
            "60000/60000 [==============================] - 1s 17us/step - loss: 2.6876e-04 - acc: 1.0000\n"
          ],
          "name": "stdout"
        },
        {
          "output_type": "execute_result",
          "data": {
            "text/plain": [
              "<keras.callbacks.History at 0x7ffa702f3f60>"
            ]
          },
          "metadata": {
            "tags": []
          },
          "execution_count": 74
        }
      ]
    },
    {
      "cell_type": "code",
      "metadata": {
        "id": "Tw3pd5yH7U1C",
        "colab_type": "code",
        "colab": {
          "base_uri": "https://localhost:8080/",
          "height": 35
        },
        "outputId": "04d9dc7a-bb2e-458c-9120-f84fe6e960bc"
      },
      "source": [
        "test_loss, test_acc = network.evaluate(test_images, test_labels)"
      ],
      "execution_count": 75,
      "outputs": [
        {
          "output_type": "stream",
          "text": [
            "10000/10000 [==============================] - 1s 51us/step\n"
          ],
          "name": "stdout"
        }
      ]
    },
    {
      "cell_type": "code",
      "metadata": {
        "id": "CbGbZY578aLP",
        "colab_type": "code",
        "colab": {
          "base_uri": "https://localhost:8080/",
          "height": 35
        },
        "outputId": "213548eb-b3b8-48cd-9294-bb891e190f07"
      },
      "source": [
        "print('test_accuracy: ',test_acc)"
      ],
      "execution_count": 76,
      "outputs": [
        {
          "output_type": "stream",
          "text": [
            "test_accuracy:  0.9831\n"
          ],
          "name": "stdout"
        }
      ]
    },
    {
      "cell_type": "code",
      "metadata": {
        "id": "mvpRtstB8wOD",
        "colab_type": "code",
        "colab": {}
      },
      "source": [
        ""
      ],
      "execution_count": 0,
      "outputs": []
    }
  ]
}