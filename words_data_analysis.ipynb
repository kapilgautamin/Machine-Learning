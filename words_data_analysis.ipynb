{
  "nbformat": 4,
  "nbformat_minor": 0,
  "metadata": {
    "kernelspec": {
      "display_name": "Python 3",
      "language": "python",
      "name": "python3"
    },
    "language_info": {
      "codemirror_mode": {
        "name": "ipython",
        "version": 3
      },
      "file_extension": ".py",
      "mimetype": "text/x-python",
      "name": "python",
      "nbconvert_exporter": "python",
      "pygments_lexer": "ipython3",
      "version": "3.6.9"
    },
    "colab": {
      "name": "words_data_analysis.ipynb",
      "provenance": [],
      "collapsed_sections": [],
      "include_colab_link": true
    }
  },
  "cells": [
    {
      "cell_type": "markdown",
      "metadata": {
        "id": "view-in-github",
        "colab_type": "text"
      },
      "source": [
        "<a href=\"https://colab.research.google.com/github/kapilgautamin/Machine-Learning-/blob/master/words_data_analysis.ipynb\" target=\"_parent\"><img src=\"https://colab.research.google.com/assets/colab-badge.svg\" alt=\"Open In Colab\"/></a>"
      ]
    },
    {
      "cell_type": "markdown",
      "metadata": {
        "id": "14mh3nx1V_Ob",
        "colab_type": "text"
      },
      "source": [
        "## Imports\n",
        " **Import the usual suspects. :) **"
      ]
    },
    {
      "cell_type": "code",
      "metadata": {
        "id": "oO1Q9lxrV_Oc",
        "colab_type": "code",
        "colab": {}
      },
      "source": [
        "import numpy as np\n",
        "import pandas as pd"
      ],
      "execution_count": 0,
      "outputs": []
    },
    {
      "cell_type": "markdown",
      "metadata": {
        "id": "2VDm3clyV_Og",
        "colab_type": "text"
      },
      "source": [
        "## The Data\n",
        "\n",
        "**Read the yelp.csv file and set it as a dataframe called yelp.**"
      ]
    },
    {
      "cell_type": "code",
      "metadata": {
        "id": "ZxoJXxpnV_Oh",
        "colab_type": "code",
        "colab": {}
      },
      "source": [
        "# If you are using google colab, upload the csv file using the left panel -> Files tab and then execute this cell\n",
        "yelp = pd.read_csv('yelp.csv')"
      ],
      "execution_count": 0,
      "outputs": []
    },
    {
      "cell_type": "markdown",
      "metadata": {
        "id": "-kH4pMKCV_Ok",
        "colab_type": "text"
      },
      "source": [
        "** Check the head, info , and describe methods on yelp.**"
      ]
    },
    {
      "cell_type": "code",
      "metadata": {
        "id": "br60f8MrV_Ol",
        "colab_type": "code",
        "outputId": "9abae413-a00f-4d11-c74a-ea39ca947f06",
        "colab": {
          "base_uri": "https://localhost:8080/",
          "height": 362
        }
      },
      "source": [
        "yelp.head()"
      ],
      "execution_count": 4,
      "outputs": [
        {
          "output_type": "execute_result",
          "data": {
            "text/html": [
              "<div>\n",
              "<style scoped>\n",
              "    .dataframe tbody tr th:only-of-type {\n",
              "        vertical-align: middle;\n",
              "    }\n",
              "\n",
              "    .dataframe tbody tr th {\n",
              "        vertical-align: top;\n",
              "    }\n",
              "\n",
              "    .dataframe thead th {\n",
              "        text-align: right;\n",
              "    }\n",
              "</style>\n",
              "<table border=\"1\" class=\"dataframe\">\n",
              "  <thead>\n",
              "    <tr style=\"text-align: right;\">\n",
              "      <th></th>\n",
              "      <th>business_id</th>\n",
              "      <th>date</th>\n",
              "      <th>review_id</th>\n",
              "      <th>stars</th>\n",
              "      <th>text</th>\n",
              "      <th>type</th>\n",
              "      <th>user_id</th>\n",
              "      <th>cool</th>\n",
              "      <th>useful</th>\n",
              "      <th>funny</th>\n",
              "    </tr>\n",
              "  </thead>\n",
              "  <tbody>\n",
              "    <tr>\n",
              "      <th>0</th>\n",
              "      <td>9yKzy9PApeiPPOUJEtnvkg</td>\n",
              "      <td>2011-01-26</td>\n",
              "      <td>fWKvX83p0-ka4JS3dc6E5A</td>\n",
              "      <td>5</td>\n",
              "      <td>My wife took me here on my birthday for breakf...</td>\n",
              "      <td>review</td>\n",
              "      <td>rLtl8ZkDX5vH5nAx9C3q5Q</td>\n",
              "      <td>2</td>\n",
              "      <td>5</td>\n",
              "      <td>0</td>\n",
              "    </tr>\n",
              "    <tr>\n",
              "      <th>1</th>\n",
              "      <td>ZRJwVLyzEJq1VAihDhYiow</td>\n",
              "      <td>2011-07-27</td>\n",
              "      <td>IjZ33sJrzXqU-0X6U8NwyA</td>\n",
              "      <td>5</td>\n",
              "      <td>I have no idea why some people give bad review...</td>\n",
              "      <td>review</td>\n",
              "      <td>0a2KyEL0d3Yb1V6aivbIuQ</td>\n",
              "      <td>0</td>\n",
              "      <td>0</td>\n",
              "      <td>0</td>\n",
              "    </tr>\n",
              "    <tr>\n",
              "      <th>2</th>\n",
              "      <td>6oRAC4uyJCsJl1X0WZpVSA</td>\n",
              "      <td>2012-06-14</td>\n",
              "      <td>IESLBzqUCLdSzSqm0eCSxQ</td>\n",
              "      <td>4</td>\n",
              "      <td>love the gyro plate. Rice is so good and I als...</td>\n",
              "      <td>review</td>\n",
              "      <td>0hT2KtfLiobPvh6cDC8JQg</td>\n",
              "      <td>0</td>\n",
              "      <td>1</td>\n",
              "      <td>0</td>\n",
              "    </tr>\n",
              "    <tr>\n",
              "      <th>3</th>\n",
              "      <td>_1QQZuf4zZOyFCvXc0o6Vg</td>\n",
              "      <td>2010-05-27</td>\n",
              "      <td>G-WvGaISbqqaMHlNnByodA</td>\n",
              "      <td>5</td>\n",
              "      <td>Rosie, Dakota, and I LOVE Chaparral Dog Park!!...</td>\n",
              "      <td>review</td>\n",
              "      <td>uZetl9T0NcROGOyFfughhg</td>\n",
              "      <td>1</td>\n",
              "      <td>2</td>\n",
              "      <td>0</td>\n",
              "    </tr>\n",
              "    <tr>\n",
              "      <th>4</th>\n",
              "      <td>6ozycU1RpktNG2-1BroVtw</td>\n",
              "      <td>2012-01-05</td>\n",
              "      <td>1uJFq2r5QfJG_6ExMRCaGw</td>\n",
              "      <td>5</td>\n",
              "      <td>General Manager Scott Petello is a good egg!!!...</td>\n",
              "      <td>review</td>\n",
              "      <td>vYmM4KTsC8ZfQBg-j5MWkw</td>\n",
              "      <td>0</td>\n",
              "      <td>0</td>\n",
              "      <td>0</td>\n",
              "    </tr>\n",
              "  </tbody>\n",
              "</table>\n",
              "</div>"
            ],
            "text/plain": [
              "              business_id        date  ... useful  funny\n",
              "0  9yKzy9PApeiPPOUJEtnvkg  2011-01-26  ...      5      0\n",
              "1  ZRJwVLyzEJq1VAihDhYiow  2011-07-27  ...      0      0\n",
              "2  6oRAC4uyJCsJl1X0WZpVSA  2012-06-14  ...      1      0\n",
              "3  _1QQZuf4zZOyFCvXc0o6Vg  2010-05-27  ...      2      0\n",
              "4  6ozycU1RpktNG2-1BroVtw  2012-01-05  ...      0      0\n",
              "\n",
              "[5 rows x 10 columns]"
            ]
          },
          "metadata": {
            "tags": []
          },
          "execution_count": 4
        }
      ]
    },
    {
      "cell_type": "code",
      "metadata": {
        "id": "VIxU4jlWV_Oo",
        "colab_type": "code",
        "outputId": "4cd5372b-08eb-46c0-de1d-b8f03914f330",
        "colab": {
          "base_uri": "https://localhost:8080/",
          "height": 298
        }
      },
      "source": [
        "yelp.info()"
      ],
      "execution_count": 5,
      "outputs": [
        {
          "output_type": "stream",
          "text": [
            "<class 'pandas.core.frame.DataFrame'>\n",
            "RangeIndex: 10000 entries, 0 to 9999\n",
            "Data columns (total 10 columns):\n",
            "business_id    10000 non-null object\n",
            "date           10000 non-null object\n",
            "review_id      10000 non-null object\n",
            "stars          10000 non-null int64\n",
            "text           10000 non-null object\n",
            "type           10000 non-null object\n",
            "user_id        10000 non-null object\n",
            "cool           10000 non-null int64\n",
            "useful         10000 non-null int64\n",
            "funny          10000 non-null int64\n",
            "dtypes: int64(4), object(6)\n",
            "memory usage: 781.4+ KB\n"
          ],
          "name": "stdout"
        }
      ]
    },
    {
      "cell_type": "code",
      "metadata": {
        "id": "ppNYee9AV_Or",
        "colab_type": "code",
        "outputId": "41c01861-bd71-4877-9e57-b62e99025d53",
        "colab": {
          "base_uri": "https://localhost:8080/",
          "height": 300
        }
      },
      "source": [
        "yelp.describe()"
      ],
      "execution_count": 6,
      "outputs": [
        {
          "output_type": "execute_result",
          "data": {
            "text/html": [
              "<div>\n",
              "<style scoped>\n",
              "    .dataframe tbody tr th:only-of-type {\n",
              "        vertical-align: middle;\n",
              "    }\n",
              "\n",
              "    .dataframe tbody tr th {\n",
              "        vertical-align: top;\n",
              "    }\n",
              "\n",
              "    .dataframe thead th {\n",
              "        text-align: right;\n",
              "    }\n",
              "</style>\n",
              "<table border=\"1\" class=\"dataframe\">\n",
              "  <thead>\n",
              "    <tr style=\"text-align: right;\">\n",
              "      <th></th>\n",
              "      <th>stars</th>\n",
              "      <th>cool</th>\n",
              "      <th>useful</th>\n",
              "      <th>funny</th>\n",
              "    </tr>\n",
              "  </thead>\n",
              "  <tbody>\n",
              "    <tr>\n",
              "      <th>count</th>\n",
              "      <td>10000.000000</td>\n",
              "      <td>10000.000000</td>\n",
              "      <td>10000.000000</td>\n",
              "      <td>10000.000000</td>\n",
              "    </tr>\n",
              "    <tr>\n",
              "      <th>mean</th>\n",
              "      <td>3.777500</td>\n",
              "      <td>0.876800</td>\n",
              "      <td>1.409300</td>\n",
              "      <td>0.701300</td>\n",
              "    </tr>\n",
              "    <tr>\n",
              "      <th>std</th>\n",
              "      <td>1.214636</td>\n",
              "      <td>2.067861</td>\n",
              "      <td>2.336647</td>\n",
              "      <td>1.907942</td>\n",
              "    </tr>\n",
              "    <tr>\n",
              "      <th>min</th>\n",
              "      <td>1.000000</td>\n",
              "      <td>0.000000</td>\n",
              "      <td>0.000000</td>\n",
              "      <td>0.000000</td>\n",
              "    </tr>\n",
              "    <tr>\n",
              "      <th>25%</th>\n",
              "      <td>3.000000</td>\n",
              "      <td>0.000000</td>\n",
              "      <td>0.000000</td>\n",
              "      <td>0.000000</td>\n",
              "    </tr>\n",
              "    <tr>\n",
              "      <th>50%</th>\n",
              "      <td>4.000000</td>\n",
              "      <td>0.000000</td>\n",
              "      <td>1.000000</td>\n",
              "      <td>0.000000</td>\n",
              "    </tr>\n",
              "    <tr>\n",
              "      <th>75%</th>\n",
              "      <td>5.000000</td>\n",
              "      <td>1.000000</td>\n",
              "      <td>2.000000</td>\n",
              "      <td>1.000000</td>\n",
              "    </tr>\n",
              "    <tr>\n",
              "      <th>max</th>\n",
              "      <td>5.000000</td>\n",
              "      <td>77.000000</td>\n",
              "      <td>76.000000</td>\n",
              "      <td>57.000000</td>\n",
              "    </tr>\n",
              "  </tbody>\n",
              "</table>\n",
              "</div>"
            ],
            "text/plain": [
              "              stars          cool        useful         funny\n",
              "count  10000.000000  10000.000000  10000.000000  10000.000000\n",
              "mean       3.777500      0.876800      1.409300      0.701300\n",
              "std        1.214636      2.067861      2.336647      1.907942\n",
              "min        1.000000      0.000000      0.000000      0.000000\n",
              "25%        3.000000      0.000000      0.000000      0.000000\n",
              "50%        4.000000      0.000000      1.000000      0.000000\n",
              "75%        5.000000      1.000000      2.000000      1.000000\n",
              "max        5.000000     77.000000     76.000000     57.000000"
            ]
          },
          "metadata": {
            "tags": []
          },
          "execution_count": 6
        }
      ]
    },
    {
      "cell_type": "markdown",
      "metadata": {
        "id": "bVZ4luERV_Ou",
        "colab_type": "text"
      },
      "source": [
        "**Create a new column called \"text length\" which is the number of words in the text column.**"
      ]
    },
    {
      "cell_type": "code",
      "metadata": {
        "id": "e3V7BImnV_Ov",
        "colab_type": "code",
        "colab": {
          "base_uri": "https://localhost:8080/",
          "height": 878
        },
        "outputId": "55d247e3-2cf2-45e6-a44d-4ede43fa894e"
      },
      "source": [
        "yelp['text length'] = yelp['text'].apply(len)\n",
        "yelp"
      ],
      "execution_count": 9,
      "outputs": [
        {
          "output_type": "execute_result",
          "data": {
            "text/html": [
              "<div>\n",
              "<style scoped>\n",
              "    .dataframe tbody tr th:only-of-type {\n",
              "        vertical-align: middle;\n",
              "    }\n",
              "\n",
              "    .dataframe tbody tr th {\n",
              "        vertical-align: top;\n",
              "    }\n",
              "\n",
              "    .dataframe thead th {\n",
              "        text-align: right;\n",
              "    }\n",
              "</style>\n",
              "<table border=\"1\" class=\"dataframe\">\n",
              "  <thead>\n",
              "    <tr style=\"text-align: right;\">\n",
              "      <th></th>\n",
              "      <th>business_id</th>\n",
              "      <th>date</th>\n",
              "      <th>review_id</th>\n",
              "      <th>stars</th>\n",
              "      <th>text</th>\n",
              "      <th>type</th>\n",
              "      <th>user_id</th>\n",
              "      <th>cool</th>\n",
              "      <th>useful</th>\n",
              "      <th>funny</th>\n",
              "      <th>text length</th>\n",
              "    </tr>\n",
              "  </thead>\n",
              "  <tbody>\n",
              "    <tr>\n",
              "      <th>0</th>\n",
              "      <td>9yKzy9PApeiPPOUJEtnvkg</td>\n",
              "      <td>2011-01-26</td>\n",
              "      <td>fWKvX83p0-ka4JS3dc6E5A</td>\n",
              "      <td>5</td>\n",
              "      <td>My wife took me here on my birthday for breakf...</td>\n",
              "      <td>review</td>\n",
              "      <td>rLtl8ZkDX5vH5nAx9C3q5Q</td>\n",
              "      <td>2</td>\n",
              "      <td>5</td>\n",
              "      <td>0</td>\n",
              "      <td>889</td>\n",
              "    </tr>\n",
              "    <tr>\n",
              "      <th>1</th>\n",
              "      <td>ZRJwVLyzEJq1VAihDhYiow</td>\n",
              "      <td>2011-07-27</td>\n",
              "      <td>IjZ33sJrzXqU-0X6U8NwyA</td>\n",
              "      <td>5</td>\n",
              "      <td>I have no idea why some people give bad review...</td>\n",
              "      <td>review</td>\n",
              "      <td>0a2KyEL0d3Yb1V6aivbIuQ</td>\n",
              "      <td>0</td>\n",
              "      <td>0</td>\n",
              "      <td>0</td>\n",
              "      <td>1345</td>\n",
              "    </tr>\n",
              "    <tr>\n",
              "      <th>2</th>\n",
              "      <td>6oRAC4uyJCsJl1X0WZpVSA</td>\n",
              "      <td>2012-06-14</td>\n",
              "      <td>IESLBzqUCLdSzSqm0eCSxQ</td>\n",
              "      <td>4</td>\n",
              "      <td>love the gyro plate. Rice is so good and I als...</td>\n",
              "      <td>review</td>\n",
              "      <td>0hT2KtfLiobPvh6cDC8JQg</td>\n",
              "      <td>0</td>\n",
              "      <td>1</td>\n",
              "      <td>0</td>\n",
              "      <td>76</td>\n",
              "    </tr>\n",
              "    <tr>\n",
              "      <th>3</th>\n",
              "      <td>_1QQZuf4zZOyFCvXc0o6Vg</td>\n",
              "      <td>2010-05-27</td>\n",
              "      <td>G-WvGaISbqqaMHlNnByodA</td>\n",
              "      <td>5</td>\n",
              "      <td>Rosie, Dakota, and I LOVE Chaparral Dog Park!!...</td>\n",
              "      <td>review</td>\n",
              "      <td>uZetl9T0NcROGOyFfughhg</td>\n",
              "      <td>1</td>\n",
              "      <td>2</td>\n",
              "      <td>0</td>\n",
              "      <td>419</td>\n",
              "    </tr>\n",
              "    <tr>\n",
              "      <th>4</th>\n",
              "      <td>6ozycU1RpktNG2-1BroVtw</td>\n",
              "      <td>2012-01-05</td>\n",
              "      <td>1uJFq2r5QfJG_6ExMRCaGw</td>\n",
              "      <td>5</td>\n",
              "      <td>General Manager Scott Petello is a good egg!!!...</td>\n",
              "      <td>review</td>\n",
              "      <td>vYmM4KTsC8ZfQBg-j5MWkw</td>\n",
              "      <td>0</td>\n",
              "      <td>0</td>\n",
              "      <td>0</td>\n",
              "      <td>469</td>\n",
              "    </tr>\n",
              "    <tr>\n",
              "      <th>...</th>\n",
              "      <td>...</td>\n",
              "      <td>...</td>\n",
              "      <td>...</td>\n",
              "      <td>...</td>\n",
              "      <td>...</td>\n",
              "      <td>...</td>\n",
              "      <td>...</td>\n",
              "      <td>...</td>\n",
              "      <td>...</td>\n",
              "      <td>...</td>\n",
              "      <td>...</td>\n",
              "    </tr>\n",
              "    <tr>\n",
              "      <th>9995</th>\n",
              "      <td>VY_tvNUCCXGXQeSvJl757Q</td>\n",
              "      <td>2012-07-28</td>\n",
              "      <td>Ubyfp2RSDYW0g7Mbr8N3iA</td>\n",
              "      <td>3</td>\n",
              "      <td>First visit...Had lunch here today - used my G...</td>\n",
              "      <td>review</td>\n",
              "      <td>_eqQoPtQ3e3UxLE4faT6ow</td>\n",
              "      <td>1</td>\n",
              "      <td>2</td>\n",
              "      <td>0</td>\n",
              "      <td>668</td>\n",
              "    </tr>\n",
              "    <tr>\n",
              "      <th>9996</th>\n",
              "      <td>EKzMHI1tip8rC1-ZAy64yg</td>\n",
              "      <td>2012-01-18</td>\n",
              "      <td>2XyIOQKbVFb6uXQdJ0RzlQ</td>\n",
              "      <td>4</td>\n",
              "      <td>Should be called house of deliciousness!\\n\\nI ...</td>\n",
              "      <td>review</td>\n",
              "      <td>ROru4uk5SaYc3rg8IU7SQw</td>\n",
              "      <td>0</td>\n",
              "      <td>0</td>\n",
              "      <td>0</td>\n",
              "      <td>881</td>\n",
              "    </tr>\n",
              "    <tr>\n",
              "      <th>9997</th>\n",
              "      <td>53YGfwmbW73JhFiemNeyzQ</td>\n",
              "      <td>2010-11-16</td>\n",
              "      <td>jyznYkIbpqVmlsZxSDSypA</td>\n",
              "      <td>4</td>\n",
              "      <td>I recently visited Olive and Ivy for business ...</td>\n",
              "      <td>review</td>\n",
              "      <td>gGbN1aKQHMgfQZkqlsuwzg</td>\n",
              "      <td>0</td>\n",
              "      <td>0</td>\n",
              "      <td>0</td>\n",
              "      <td>1425</td>\n",
              "    </tr>\n",
              "    <tr>\n",
              "      <th>9998</th>\n",
              "      <td>9SKdOoDHcFoxK5ZtsgHJoA</td>\n",
              "      <td>2012-12-02</td>\n",
              "      <td>5UKq9WQE1qQbJ0DJbc-B6Q</td>\n",
              "      <td>2</td>\n",
              "      <td>My nephew just moved to Scottsdale recently so...</td>\n",
              "      <td>review</td>\n",
              "      <td>0lyVoNazXa20WzUyZPLaQQ</td>\n",
              "      <td>0</td>\n",
              "      <td>0</td>\n",
              "      <td>0</td>\n",
              "      <td>880</td>\n",
              "    </tr>\n",
              "    <tr>\n",
              "      <th>9999</th>\n",
              "      <td>pF7uRzygyZsltbmVpjIyvw</td>\n",
              "      <td>2010-10-16</td>\n",
              "      <td>vWSmOhg2ID1MNZHaWapGbA</td>\n",
              "      <td>5</td>\n",
              "      <td>4-5 locations.. all 4.5 star average.. I think...</td>\n",
              "      <td>review</td>\n",
              "      <td>KSBFytcdjPKZgXKQnYQdkA</td>\n",
              "      <td>0</td>\n",
              "      <td>0</td>\n",
              "      <td>0</td>\n",
              "      <td>461</td>\n",
              "    </tr>\n",
              "  </tbody>\n",
              "</table>\n",
              "<p>10000 rows × 11 columns</p>\n",
              "</div>"
            ],
            "text/plain": [
              "                 business_id        date  ... funny  text length\n",
              "0     9yKzy9PApeiPPOUJEtnvkg  2011-01-26  ...     0          889\n",
              "1     ZRJwVLyzEJq1VAihDhYiow  2011-07-27  ...     0         1345\n",
              "2     6oRAC4uyJCsJl1X0WZpVSA  2012-06-14  ...     0           76\n",
              "3     _1QQZuf4zZOyFCvXc0o6Vg  2010-05-27  ...     0          419\n",
              "4     6ozycU1RpktNG2-1BroVtw  2012-01-05  ...     0          469\n",
              "...                      ...         ...  ...   ...          ...\n",
              "9995  VY_tvNUCCXGXQeSvJl757Q  2012-07-28  ...     0          668\n",
              "9996  EKzMHI1tip8rC1-ZAy64yg  2012-01-18  ...     0          881\n",
              "9997  53YGfwmbW73JhFiemNeyzQ  2010-11-16  ...     0         1425\n",
              "9998  9SKdOoDHcFoxK5ZtsgHJoA  2012-12-02  ...     0          880\n",
              "9999  pF7uRzygyZsltbmVpjIyvw  2010-10-16  ...     0          461\n",
              "\n",
              "[10000 rows x 11 columns]"
            ]
          },
          "metadata": {
            "tags": []
          },
          "execution_count": 9
        }
      ]
    },
    {
      "cell_type": "markdown",
      "metadata": {
        "id": "buubtDzTV_Oy",
        "colab_type": "text"
      },
      "source": [
        "# EDA\n",
        "\n",
        "Let's explore the data\n",
        "\n",
        "## Imports\n",
        "\n",
        "**Import the data visualization libraries if you haven't done so already.**"
      ]
    },
    {
      "cell_type": "code",
      "metadata": {
        "id": "H1Z66UqfV_Oz",
        "colab_type": "code",
        "colab": {}
      },
      "source": [
        "import matplotlib.pyplot as plt\n",
        "import seaborn as sns\n",
        "sns.set_style('white')\n",
        "%matplotlib inline"
      ],
      "execution_count": 0,
      "outputs": []
    },
    {
      "cell_type": "markdown",
      "metadata": {
        "id": "nRtyooxZV_O1",
        "colab_type": "text"
      },
      "source": [
        "**Use FacetGrid from the seaborn library to create a grid of 5 histograms of text length based off of the star ratings. Reference the seaborn documentation for hints on this**"
      ]
    },
    {
      "cell_type": "code",
      "metadata": {
        "id": "NBxE7BdyV_O2",
        "colab_type": "code",
        "outputId": "5f5b5c58-d0b6-4a07-986e-538ac6c5750d",
        "colab": {
          "base_uri": "https://localhost:8080/",
          "height": 244
        }
      },
      "source": [
        "g = sns.FacetGrid(yelp, col='stars')\n",
        "g.map(plt.hist,'text length')"
      ],
      "execution_count": 11,
      "outputs": [
        {
          "output_type": "execute_result",
          "data": {
            "text/plain": [
              "<seaborn.axisgrid.FacetGrid at 0x7f2bf3cf0278>"
            ]
          },
          "metadata": {
            "tags": []
          },
          "execution_count": 11
        },
        {
          "output_type": "display_data",
          "data": {
            "image/png": "[encoded data removed]",
            "text/plain": [
              "<Figure size 1080x216 with 5 Axes>"
            ]
          },
          "metadata": {
            "tags": []
          }
        }
      ]
    },
    {
      "cell_type": "markdown",
      "metadata": {
        "id": "BENvhtJ2V_O5",
        "colab_type": "text"
      },
      "source": [
        "**Create a boxplot of text length for each star category.**"
      ]
    },
    {
      "cell_type": "code",
      "metadata": {
        "id": "sWYCO_L5V_O5",
        "colab_type": "code",
        "outputId": "36d077d2-bfce-4b01-91c0-e1cff0928f62",
        "colab": {
          "base_uri": "https://localhost:8080/",
          "height": 298
        }
      },
      "source": [
        "sns.boxplot(x='stars',y='text length',data=yelp, palette='rainbow')"
      ],
      "execution_count": 12,
      "outputs": [
        {
          "output_type": "execute_result",
          "data": {
            "text/plain": [
              "<matplotlib.axes._subplots.AxesSubplot at 0x7f2bef27e630>"
            ]
          },
          "metadata": {
            "tags": []
          },
          "execution_count": 12
        },
        {
          "output_type": "display_data",
          "data": {
            "image/png": "[encoded data removed]",
            "text/plain": [
              "<Figure size 432x288 with 1 Axes>"
            ]
          },
          "metadata": {
            "tags": []
          }
        }
      ]
    },
    {
      "cell_type": "markdown",
      "metadata": {
        "id": "R4kkdpw8V_O9",
        "colab_type": "text"
      },
      "source": [
        "**Create a countplot of the number of occurrences for each type of star rating.**"
      ]
    },
    {
      "cell_type": "code",
      "metadata": {
        "id": "JVSa-2FfV_O-",
        "colab_type": "code",
        "outputId": "ff7a32ed-f3f7-4cb1-bdc9-5c85893e03c3",
        "colab": {
          "base_uri": "https://localhost:8080/",
          "height": 298
        }
      },
      "source": [
        "sns.countplot(x='stars',data=yelp, palette='rainbow')"
      ],
      "execution_count": 13,
      "outputs": [
        {
          "output_type": "execute_result",
          "data": {
            "text/plain": [
              "<matplotlib.axes._subplots.AxesSubplot at 0x7f2bef1a7ac8>"
            ]
          },
          "metadata": {
            "tags": []
          },
          "execution_count": 13
        },
        {
          "output_type": "display_data",
          "data": {
            "image/png": "[encoded data removed]",
            "text/plain": [
              "<Figure size 432x288 with 1 Axes>"
            ]
          },
          "metadata": {
            "tags": []
          }
        }
      ]
    },
    {
      "cell_type": "markdown",
      "metadata": {
        "id": "KEY2YhjlV_PA",
        "colab_type": "text"
      },
      "source": [
        "** Use groupby to get the mean values of the numerical columns, you should be able to create this dataframe with the operation:**"
      ]
    },
    {
      "cell_type": "code",
      "metadata": {
        "id": "0skLVFiOV_PB",
        "colab_type": "code",
        "outputId": "f346f177-0f6a-4af0-a518-8cc56ec9345a",
        "colab": {
          "base_uri": "https://localhost:8080/",
          "height": 237
        }
      },
      "source": [
        "stars = yelp.groupby('stars').mean()\n",
        "stars"
      ],
      "execution_count": 14,
      "outputs": [
        {
          "output_type": "execute_result",
          "data": {
            "text/html": [
              "<div>\n",
              "<style scoped>\n",
              "    .dataframe tbody tr th:only-of-type {\n",
              "        vertical-align: middle;\n",
              "    }\n",
              "\n",
              "    .dataframe tbody tr th {\n",
              "        vertical-align: top;\n",
              "    }\n",
              "\n",
              "    .dataframe thead th {\n",
              "        text-align: right;\n",
              "    }\n",
              "</style>\n",
              "<table border=\"1\" class=\"dataframe\">\n",
              "  <thead>\n",
              "    <tr style=\"text-align: right;\">\n",
              "      <th></th>\n",
              "      <th>cool</th>\n",
              "      <th>useful</th>\n",
              "      <th>funny</th>\n",
              "      <th>text length</th>\n",
              "    </tr>\n",
              "    <tr>\n",
              "      <th>stars</th>\n",
              "      <th></th>\n",
              "      <th></th>\n",
              "      <th></th>\n",
              "      <th></th>\n",
              "    </tr>\n",
              "  </thead>\n",
              "  <tbody>\n",
              "    <tr>\n",
              "      <th>1</th>\n",
              "      <td>0.576769</td>\n",
              "      <td>1.604806</td>\n",
              "      <td>1.056075</td>\n",
              "      <td>826.515354</td>\n",
              "    </tr>\n",
              "    <tr>\n",
              "      <th>2</th>\n",
              "      <td>0.719525</td>\n",
              "      <td>1.563107</td>\n",
              "      <td>0.875944</td>\n",
              "      <td>842.256742</td>\n",
              "    </tr>\n",
              "    <tr>\n",
              "      <th>3</th>\n",
              "      <td>0.788501</td>\n",
              "      <td>1.306639</td>\n",
              "      <td>0.694730</td>\n",
              "      <td>758.498289</td>\n",
              "    </tr>\n",
              "    <tr>\n",
              "      <th>4</th>\n",
              "      <td>0.954623</td>\n",
              "      <td>1.395916</td>\n",
              "      <td>0.670448</td>\n",
              "      <td>712.923142</td>\n",
              "    </tr>\n",
              "    <tr>\n",
              "      <th>5</th>\n",
              "      <td>0.944261</td>\n",
              "      <td>1.381780</td>\n",
              "      <td>0.608631</td>\n",
              "      <td>624.999101</td>\n",
              "    </tr>\n",
              "  </tbody>\n",
              "</table>\n",
              "</div>"
            ],
            "text/plain": [
              "           cool    useful     funny  text length\n",
              "stars                                           \n",
              "1      0.576769  1.604806  1.056075   826.515354\n",
              "2      0.719525  1.563107  0.875944   842.256742\n",
              "3      0.788501  1.306639  0.694730   758.498289\n",
              "4      0.954623  1.395916  0.670448   712.923142\n",
              "5      0.944261  1.381780  0.608631   624.999101"
            ]
          },
          "metadata": {
            "tags": []
          },
          "execution_count": 14
        }
      ]
    },
    {
      "cell_type": "markdown",
      "metadata": {
        "id": "KbuKUt8vV_PD",
        "colab_type": "text"
      },
      "source": [
        "**Use the corr() method on that groupby dataframe to produce this dataframe:**"
      ]
    },
    {
      "cell_type": "code",
      "metadata": {
        "id": "jrt-qO9-V_PE",
        "colab_type": "code",
        "outputId": "6dad742a-0301-4b6e-dee6-de9c8756756f",
        "colab": {
          "base_uri": "https://localhost:8080/",
          "height": 175
        }
      },
      "source": [
        "stars.corr()"
      ],
      "execution_count": 15,
      "outputs": [
        {
          "output_type": "execute_result",
          "data": {
            "text/html": [
              "<div>\n",
              "<style scoped>\n",
              "    .dataframe tbody tr th:only-of-type {\n",
              "        vertical-align: middle;\n",
              "    }\n",
              "\n",
              "    .dataframe tbody tr th {\n",
              "        vertical-align: top;\n",
              "    }\n",
              "\n",
              "    .dataframe thead th {\n",
              "        text-align: right;\n",
              "    }\n",
              "</style>\n",
              "<table border=\"1\" class=\"dataframe\">\n",
              "  <thead>\n",
              "    <tr style=\"text-align: right;\">\n",
              "      <th></th>\n",
              "      <th>cool</th>\n",
              "      <th>useful</th>\n",
              "      <th>funny</th>\n",
              "      <th>text length</th>\n",
              "    </tr>\n",
              "  </thead>\n",
              "  <tbody>\n",
              "    <tr>\n",
              "      <th>cool</th>\n",
              "      <td>1.000000</td>\n",
              "      <td>-0.743329</td>\n",
              "      <td>-0.944939</td>\n",
              "      <td>-0.857664</td>\n",
              "    </tr>\n",
              "    <tr>\n",
              "      <th>useful</th>\n",
              "      <td>-0.743329</td>\n",
              "      <td>1.000000</td>\n",
              "      <td>0.894506</td>\n",
              "      <td>0.699881</td>\n",
              "    </tr>\n",
              "    <tr>\n",
              "      <th>funny</th>\n",
              "      <td>-0.944939</td>\n",
              "      <td>0.894506</td>\n",
              "      <td>1.000000</td>\n",
              "      <td>0.843461</td>\n",
              "    </tr>\n",
              "    <tr>\n",
              "      <th>text length</th>\n",
              "      <td>-0.857664</td>\n",
              "      <td>0.699881</td>\n",
              "      <td>0.843461</td>\n",
              "      <td>1.000000</td>\n",
              "    </tr>\n",
              "  </tbody>\n",
              "</table>\n",
              "</div>"
            ],
            "text/plain": [
              "                 cool    useful     funny  text length\n",
              "cool         1.000000 -0.743329 -0.944939    -0.857664\n",
              "useful      -0.743329  1.000000  0.894506     0.699881\n",
              "funny       -0.944939  0.894506  1.000000     0.843461\n",
              "text length -0.857664  0.699881  0.843461     1.000000"
            ]
          },
          "metadata": {
            "tags": []
          },
          "execution_count": 15
        }
      ]
    },
    {
      "cell_type": "markdown",
      "metadata": {
        "id": "6Y2b8iV_V_PG",
        "colab_type": "text"
      },
      "source": [
        "**Then use seaborn to create a heatmap based off that .corr() dataframe:**"
      ]
    },
    {
      "cell_type": "code",
      "metadata": {
        "id": "glBRBvyTV_PI",
        "colab_type": "code",
        "outputId": "6b91a3ac-a54a-44bb-e7f2-9b31104aca4c",
        "colab": {
          "base_uri": "https://localhost:8080/",
          "height": 291
        }
      },
      "source": [
        "sns.heatmap(stars.corr(), cmap='coolwarm', annot=True)"
      ],
      "execution_count": 17,
      "outputs": [
        {
          "output_type": "execute_result",
          "data": {
            "text/plain": [
              "<matplotlib.axes._subplots.AxesSubplot at 0x7f2beef7cef0>"
            ]
          },
          "metadata": {
            "tags": []
          },
          "execution_count": 17
        },
        {
          "output_type": "display_data",
          "data": {
            "image/png": "[encoded data removed]",
            "text/plain": [
              "<Figure size 432x288 with 2 Axes>"
            ]
          },
          "metadata": {
            "tags": []
          }
        }
      ]
    },
    {
      "cell_type": "code",
      "metadata": {
        "id": "eDuO2lHkV_PK",
        "colab_type": "code",
        "colab": {}
      },
      "source": [
        "from collections import Counter"
      ],
      "execution_count": 0,
      "outputs": []
    },
    {
      "cell_type": "code",
      "metadata": {
        "id": "kTOu2lKDKuem",
        "colab_type": "code",
        "colab": {}
      },
      "source": [
        "def get_words(s):\n",
        "  text = yelp.loc[yelp['stars'] == s]['text']\n",
        "  l = list(text)\n",
        "  words = \". \".join(l).split()\n",
        "  words_lower = [w.lower() for w in words]\n",
        "  return words_lower"
      ],
      "execution_count": 0,
      "outputs": []
    },
    {
      "cell_type": "code",
      "metadata": {
        "id": "uLtdPAknV_PN",
        "colab_type": "code",
        "outputId": "f9c69d40-facc-4fe2-a411-cd685cb0b348",
        "colab": {
          "base_uri": "https://localhost:8080/",
          "height": 1000
        }
      },
      "source": [
        "# Fetch and format words\n",
        "\n",
        "keywords = ['terrible', 'awful', 'awesome', 'good', 'bad', 'ugly', 'best', 'pizza', 'beer', 'professional', 'staff', 'food']\n",
        "\n",
        "# Plot word distribution \n",
        "fig = plt.figure(figsize=(20,20))\n",
        "for i,s in enumerate([1,2,3,4,5]):\n",
        "  d = {}\n",
        "  ax = fig.add_subplot(3,2,i+1)\n",
        "  words = get_words(s)\n",
        "  c = Counter(words)\n",
        "  for kw in keywords:\n",
        "    d[kw] = c[kw]\n",
        "  ax.set_ylim(0,2000)\n",
        "  ax.tick_params('x', labelsize = 15, rotation=40)\n",
        "  ax.tick_params('y', labelsize=20)\n",
        "  ax.text(0.8,0.8,'stars:{}'.format(s),fontsize=20,transform=ax.transAxes)\n",
        "  ax.bar(d.keys(),d.values())"
      ],
      "execution_count": 41,
      "outputs": [
        {
          "output_type": "display_data",
          "data": {
            "image/png": "[encoded data removed]",
            "text/plain": [
              "<Figure size 1440x1440 with 5 Axes>"
            ]
          },
          "metadata": {
            "tags": []
          }
        }
      ]
    },
    {
      "cell_type": "code",
      "metadata": {
        "id": "oLN627rNV_PT",
        "colab_type": "code",
        "colab": {}
      },
      "source": [
        "from sklearn.feature_extraction.text import TfidfVectorizer,CountVectorizer"
      ],
      "execution_count": 0,
      "outputs": []
    },
    {
      "cell_type": "code",
      "metadata": {
        "id": "BbdW8NMwV_PV",
        "colab_type": "code",
        "outputId": "215d592f-01ef-4804-d729-2917477b2f1a",
        "colab": {
          "base_uri": "https://localhost:8080/",
          "height": 148
        }
      },
      "source": [
        "tfidf = TfidfVectorizer(analyzer='word')\n",
        "tfidf.fit(yelp['text'])"
      ],
      "execution_count": 43,
      "outputs": [
        {
          "output_type": "execute_result",
          "data": {
            "text/plain": [
              "TfidfVectorizer(analyzer='word', binary=False, decode_error='strict',\n",
              "                dtype=<class 'numpy.float64'>, encoding='utf-8',\n",
              "                input='content', lowercase=True, max_df=1.0, max_features=None,\n",
              "                min_df=1, ngram_range=(1, 1), norm='l2', preprocessor=None,\n",
              "                smooth_idf=True, stop_words=None, strip_accents=None,\n",
              "                sublinear_tf=False, token_pattern='(?u)\\\\b\\\\w\\\\w+\\\\b',\n",
              "                tokenizer=None, use_idf=True, vocabulary=None)"
            ]
          },
          "metadata": {
            "tags": []
          },
          "execution_count": 43
        }
      ]
    },
    {
      "cell_type": "code",
      "metadata": {
        "id": "rFVzyfOpV_Pa",
        "colab_type": "code",
        "outputId": "cbc291fa-2d33-45ca-c88f-e269ac39e6cc",
        "colab": {
          "base_uri": "https://localhost:8080/",
          "height": 204
        }
      },
      "source": [
        "word_list = ['the', 'professional', 'best', 'good', 'bad', 'amazing', 'awful', 'awesome', 'food', 'service']\n",
        "for word in word_list:\n",
        "  print(\"idf value for {} is {}\".format(word, tfidf.idf_[tfidf.vocabulary_[word]]))"
      ],
      "execution_count": 44,
      "outputs": [
        {
          "output_type": "stream",
          "text": [
            "idf value for the is 1.0900247025283205\n",
            "idf value for professional is 5.342905916520934\n",
            "idf value for best is 2.8079888461582723\n",
            "idf value for good is 1.8683151036429253\n",
            "idf value for bad is 3.4248527219685867\n",
            "idf value for amazing is 3.3969957674656204\n",
            "idf value for awful is 5.53761153251461\n",
            "idf value for awesome is 3.6132946650898643\n",
            "idf value for food is 1.9322660760327786\n",
            "idf value for service is 2.341803472792349\n"
          ],
          "name": "stdout"
        }
      ]
    },
    {
      "cell_type": "code",
      "metadata": {
        "id": "tdMc-AmkV_Pe",
        "colab_type": "code",
        "colab": {}
      },
      "source": [
        ""
      ],
      "execution_count": 0,
      "outputs": []
    }
  ]
}